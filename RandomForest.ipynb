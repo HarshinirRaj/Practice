{
 "cells": [
  {
   "cell_type": "code",
   "execution_count": null,
   "metadata": {},
   "outputs": [],
   "source": [
    "import numpy as np\n",
    "np.random.seed(0)"
   ]
  },
  {
   "cell_type": "markdown",
   "metadata": {},
   "source": [
    "When the data is split into training and testing, it selects random rows for testing. <br>\n",
    "setting random.seed = 0 makes it to take same rows for testing every time."
   ]
  },
  {
   "cell_type": "code",
   "execution_count": null,
   "metadata": {},
   "outputs": [],
   "source": [
    "from sklearn.datasets import load_iris\n",
    "\n",
    "iris = load_iris()\n",
    "print(iris.DESCR)"
   ]
  },
  {
   "cell_type": "code",
   "execution_count": null,
   "metadata": {},
   "outputs": [],
   "source": [
    "# Load data into dataframe\n",
    "import pandas as pd\n",
    "iris_df = pd.DataFrame(iris.data, columns=iris.feature_names)\n",
    "\n",
    "# set target column which is species in this dataset\n",
    "iris_df['species'] = pd.Series(iris.target)\n",
    "iris_df['species_name'] = pd.Categorical.from_codes(iris.target,iris.target_names)\n",
    "iris_df"
   ]
  },
  {
   "cell_type": "code",
   "execution_count": null,
   "metadata": {},
   "outputs": [],
   "source": [
    "# explore\n",
    "iris_df.head()"
   ]
  },
  {
   "cell_type": "code",
   "execution_count": null,
   "metadata": {},
   "outputs": [],
   "source": [
    "# visualization\n",
    "\n",
    "import matplotlib.pyplot as plt\n",
    "import seaborn as sns\n",
    "\n",
    "sns.set(font_scale=2)\n",
    "sns.set_style('whitegrid')\n",
    "\n",
    "for feature in iris.feature_names:\n",
    "     plt.figure(figsize=(16, 9))\n",
    "     sns.scatterplot(data=iris_df, x=feature, y='species_name', \n",
    "                     hue='species_name', \n",
    "                     palette='cool', legend=False)"
   ]
  },
  {
   "cell_type": "code",
   "execution_count": null,
   "metadata": {},
   "outputs": [],
   "source": [
    "# split the data for training and testing\n",
    "\n",
    "from sklearn.model_selection import train_test_split\n",
    "\n",
    "# test_size = 0.3 indicates 70% for training and 30% for testing\n",
    "X_train, X_test, y_train, y_test = train_test_split(iris_df[iris_df.columns[0:3]],iris_df['species'],test_size=0.3)\n",
    "\n",
    "# shape gives the number of rows and columns of train and test datasets.\n",
    "print(f'Shape of training set X = {X_train.shape}')\n",
    "print(f'Shape of testing  set X = {X_test.shape}')\n",
    "\n",
    "print()\n",
    "\n",
    "print(f'Shape of training set y = {y_train.shape}')\n",
    "print(f'Shape of testing  set y = {y_test.shape}')"
   ]
  },
  {
   "cell_type": "code",
   "execution_count": null,
   "metadata": {},
   "outputs": [],
   "source": [
    "# Use RandomForest algorithm\n",
    "from sklearn.ensemble import RandomForestClassifier as rfc\n",
    "\n",
    "random_forest = rfc(n_jobs=2, random_state=0)\n",
    "random_forest.fit(X_train, y_train)"
   ]
  },
  {
   "cell_type": "code",
   "execution_count": null,
   "metadata": {},
   "outputs": [],
   "source": [
    "predicted = random_forest.predict(X_test)\n",
    "expected = y_test\n",
    "\n",
    "print(f'predicted classes : {predicted}')\n",
    "print(f'expected classes : {expected}')"
   ]
  },
  {
   "cell_type": "code",
   "execution_count": null,
   "metadata": {},
   "outputs": [],
   "source": [
    "# accuracy\n",
    "from sklearn.metrics import accuracy_score\n",
    "print(f'accuracy score : {accuracy_score(expected,predicted):.1f}')"
   ]
  },
  {
   "cell_type": "code",
   "execution_count": null,
   "metadata": {},
   "outputs": [],
   "source": [
    "# f1 score\n",
    "from sklearn.metrics import f1_score\n",
    "print(f1_score(expected,predicted,average='micro'))"
   ]
  },
  {
   "cell_type": "code",
   "execution_count": null,
   "metadata": {},
   "outputs": [],
   "source": [
    "# confusion matrix to evaluate the model\n",
    "\n",
    "from sklearn.metrics import confusion_matrix\n",
    "\n",
    "cm = confusion_matrix(y_true=expected, y_pred=predicted)\n",
    "\n",
    "confusion_df = pd.DataFrame(cm,index=range(3),columns=range(3))\n",
    "axes = sns.heatmap(confusion_df,annot=True, cmap='nipy_spectral_r')"
   ]
  },
  {
   "cell_type": "markdown",
   "metadata": {},
   "source": [
    "Confusion matrtix indicates how many are correctly predicted and how many are wrong. <br>\n",
    "Here the numbers in the diagonal represent the correctly predicted features. There are 16+16+10=42 correct predictions <br>\n",
    "The numbers other than in the diagonal represent incorrect predictions. The '2' in the 2nd row and '1' in the 3rd row represents that the testing set is predicted wrongly. "
   ]
  }
 ],
 "metadata": {
  "kernelspec": {
   "display_name": "Python 3",
   "language": "python",
   "name": "python3"
  },
  "language_info": {
   "codemirror_mode": {
    "name": "ipython",
    "version": 3
   },
   "file_extension": ".py",
   "mimetype": "text/x-python",
   "name": "python",
   "nbconvert_exporter": "python",
   "pygments_lexer": "ipython3",
   "version": "3.8.5"
  }
 },
 "nbformat": 4,
 "nbformat_minor": 4
}
