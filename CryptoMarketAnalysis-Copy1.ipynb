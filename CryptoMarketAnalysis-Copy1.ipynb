{
 "cells": [
  {
   "cell_type": "markdown",
   "metadata": {},
   "source": [
    "Use the below comand to install the packages that deals with API data"
   ]
  },
  {
   "cell_type": "markdown",
   "metadata": {},
   "source": [
    "conda install requests "
   ]
  },
  {
   "cell_type": "code",
   "execution_count": 1,
   "metadata": {},
   "outputs": [],
   "source": [
    "import requests"
   ]
  },
  {
   "cell_type": "code",
   "execution_count": 31,
   "metadata": {},
   "outputs": [
    {
     "name": "stdout",
     "output_type": "stream",
     "text": [
      "200\n"
     ]
    }
   ],
   "source": [
    "response = requests.get(\"https://api.wazirx.com/api/v2/tickers\")\n",
    "print(response.status_code)"
   ]
  },
  {
   "cell_type": "code",
   "execution_count": 32,
   "metadata": {},
   "outputs": [
    {
     "name": "stdout",
     "output_type": "stream",
     "text": [
      "{'btcinr': {'base_unit': 'btc', 'quote_unit': 'inr', 'low': '4797502.0', 'high': '4900000.0', 'last': '4810300.0', 'type': 'SPOT', 'open': 4860000.0, 'volume': '283.27228', 'sell': '4818811.0', 'buy': '4810300.0', 'at': 1635282176, 'name': 'BTC/INR'}, 'xrpinr': {'base_unit': 'xrp', 'quote_unit': 'inr', 'low': '84.56', 'high': '89.6888', 'last': '89.1112', 'type': 'SPOT', 'open': 84.7014, 'volume': '1404012.0', 'sell': '89.3', 'buy': '89.011', 'at': 1635282176, 'name': 'XRP/INR'}, 'ethinr': {'base_unit': 'eth', 'quote_unit': 'inr', 'low': '321882.8', 'high': '332530.2', 'last': '330758.0', 'type': 'SPOT', 'open': 324980.0, 'volume': '548.8762', 'sell': '330758.0', 'buy': '330101.1', 'at': 1635282176, 'name': 'ETH/INR'}, 'trxinr': {'base_unit': 'trx', 'quote_unit': 'inr', 'low': '7.76', 'high': '8.1973', 'last': '7.96', 'type': 'SPOT', 'open': 7.7878, 'volume': '24662148.0', 'sell': '7.9699', 'buy': '7.96', 'at': 1635282176, 'name': 'TRX/INR'}, 'eosinr': {'base_unit': 'eos', 'quote_unit': 'inr', 'low': '370.0', 'high': '382.99', 'last': '373.8', 'type': 'SPOT', 'open': 371.24, 'volume': '21140.22', 'sell': '374.39', 'buy': '373.0', 'at': 1635282176, 'name': 'EOS/INR'}, 'zilinr': {'base_unit': 'zil', 'quote_unit': 'inr', 'low': '8.38', 'high': '8.82', 'last': '8.53', 'type': 'SPOT', 'open': 8.72, 'volume': '2464979.0', 'sell': '8.54', 'buy': '8.5', 'at': 1635282176, 'name': 'ZIL/INR'}, 'batinr': {'base_unit': 'bat', 'quote_unit': 'inr', 'low': '54.001', 'high': '57.168', 'last': '56.051', 'type': 'SPOT', 'open': 54.396, 'volume': '162834.59', 'sell': '56.694', 'buy': '56.051', 'at': 1635282176, 'name': 'BAT/INR'}, 'zrxinr': {'base_unit': 'zrx', 'quote_unit': 'inr', 'low': '77.79', 'high': '85.71', 'last': '84.01', 'type': 'SPOT', 'open': 78.36, 'volume': '102656.0', 'sell': '84.69', 'buy': '84.02', 'at': 1635282176, 'name': 'ZRX/INR'}, 'omginr': {'base_unit': 'omg', 'quote_unit': 'inr', 'low': '1102.1', 'high': '1138.991', 'last': '1118.998', 'type': 'SPOT', 'open': 1110.76, 'volume': '4958.66', 'sell': '1118.998', 'buy': '1110.002', 'at': 1635282176, 'name': 'OMG/INR'}, 'polyinr': {'base_unit': 'poly', 'quote_unit': 'inr', 'low': '54.4', 'high': '56.0', 'last': '55.201', 'type': 'SPOT', 'open': 55.197, 'volume': '873305.0', 'sell': '55.201', 'buy': '55.065', 'at': 1635282176, 'name': 'POLY/INR'}, 'iostinr': {'base_unit': 'iost', 'quote_unit': 'inr', 'low': '3.9', 'high': '4.08', 'last': '4.06', 'type': 'SPOT', 'open': 3.92, 'volume': '10590766.0', 'sell': '4.06', 'buy': '4.03', 'at': 1635282176, 'name': 'IOST/INR'}, 'dentinr': {'base_unit': 'dent', 'quote_unit': 'inr', 'low': '0.458', 'high': '0.509', 'last': '0.487', 'type': 'SPOT', 'open': 0.46, 'volume': '174200360.0', 'sell': '0.488', 'buy': '0.487', 'at': 1635282176, 'name': 'DENT/INR'}, 'hotinr': {'base_unit': 'hot', 'quote_unit': 'inr', 'low': '0.738', 'high': '0.92', 'last': '0.877', 'type': 'SPOT', 'open': 0.738, 'volume': '134444900.0', 'sell': '0.878', 'buy': '0.877', 'at': 1635282176, 'name': 'HOT/INR'}, 'usdtinr': {'base_unit': 'usdt', 'quote_unit': 'inr', 'low': '77.2', 'high': '78.02', 'last': '77.74', 'type': 'SPOT', 'open': 77.65, 'volume': '24545917.46', 'sell': '77.75', 'buy': '77.74', 'at': 1635282176, 'name': 'USDT/INR'}, 'wrxinr': {'base_unit': 'wrx', 'quote_unit': 'inr', 'low': '103.4', 'high': '113.0', 'last': '111.73', 'type': 'SPOT', 'open': 103.71, 'volume': '7472114.0', 'sell': '111.68', 'buy': '111.56', 'at': 1635282176, 'name': 'WRX/INR'}, 'maticinr': {'base_unit': 'matic', 'quote_unit': 'inr', 'low': '126.5', 'high': '142.73', 'last': '139.5', 'type': 'SPOT', 'open': 126.808, 'volume': '4346465.4', 'sell': '139.586', 'buy': '139.001', 'at': 1635282176, 'name': 'MATIC/INR'}, 'bchinr': {'base_unit': 'bch', 'quote_unit': 'inr', 'low': '47225.0', 'high': '48767.0', 'last': '48232.0', 'type': 'SPOT', 'open': 47950.0, 'volume': '86.0405', 'sell': '48299.0', 'buy': '47592.0', 'at': 1635282176, 'name': 'BCH/INR'}, 'bnbinr': {'base_unit': 'bnb', 'quote_unit': 'inr', 'low': '37350.06', 'high': '37998.99', 'last': '37735.0', 'type': 'SPOT', 'open': 37603.22, 'volume': '1337.6102', 'sell': '37735.56', 'buy': '37735.0', 'at': 1635282176, 'name': 'BNB/INR'}, 'bttinr': {'base_unit': 'btt', 'quote_unit': 'inr', 'low': '0.28285', 'high': '0.30314', 'last': '0.296', 'type': 'SPOT', 'open': 0.28397, 'volume': '409614728.0', 'sell': '0.296', 'buy': '0.29586', 'at': 1635282176, 'name': 'BTT/INR'}, 'chzinr': {'base_unit': 'chz', 'quote_unit': 'inr', 'low': '2.5', 'high': '2.5', 'last': '2.5', 'type': 'SPOT', 'open': 2.5, 'volume': '0.0', 'sell': '0.0', 'buy': '2.7', 'at': 1635282176, 'name': 'CHZ/INR'}, 'oneinr': {'base_unit': 'one', 'quote_unit': 'inr', 'low': '0.56', 'high': '0.56', 'last': '0.56', 'type': 'SPOT', 'open': 0.56, 'volume': '0.0', 'sell': '0.0', 'buy': '0.56', 'at': 1635282176, 'name': 'ONE/INR'}, 'yfiinr': {'base_unit': 'yfi', 'quote_unit': 'inr', 'low': '2689606.0', 'high': '2999998.0', 'last': '2965998.0', 'type': 'SPOT', 'open': 2700001.0, 'volume': '3.49728', 'sell': '2965997.0', 'buy': '2920003.0', 'at': 1635282176, 'name': 'YFI/INR'}, 'uniinr': {'base_unit': 'uni', 'quote_unit': 'inr', 'low': '2045.01', 'high': '2184.6', 'last': '2163.49', 'type': 'SPOT', 'open': 2069.45, 'volume': '4453.32', 'sell': '2163.48', 'buy': '2150.05', 'at': 1635282176, 'name': 'UNI/INR'}, 'linkinr': {'base_unit': 'link', 'quote_unit': 'inr', 'low': '2440.0', 'high': '2620.0', 'last': '2619.96', 'type': 'SPOT', 'open': 2539.97, 'volume': '7685.53', 'sell': '2618.99', 'buy': '2590.01', 'at': 1635282176, 'name': 'LINK/INR'}, 'sxpinr': {'base_unit': 'sxp', 'quote_unit': 'inr', 'low': '176.5', 'high': '183.64', 'last': '183.0', 'type': 'SPOT', 'open': 178.0, 'volume': '103328.98', 'sell': '183.0', 'buy': '182.36', 'at': 1635282176, 'name': 'SXP/INR'}, 'adainr': {'base_unit': 'ada', 'quote_unit': 'inr', 'low': '166.4', 'high': '170.3912', 'last': '169.8838', 'type': 'SPOT', 'open': 167.4072, 'volume': '978717.8', 'sell': '169.9', 'buy': '169.8838', 'at': 1635282176, 'name': 'ADA/INR'}, 'nanoinr': {'base_unit': 'nano', 'quote_unit': 'inr', 'low': '380.0', 'high': '380.0', 'last': '380.0', 'type': 'SPOT', 'open': 380.0, 'volume': '0.0', 'sell': '200000.0', 'buy': '0.0', 'at': 1635282176, 'name': 'NANO/INR'}, 'atominr': {'base_unit': 'atom', 'quote_unit': 'inr', 'low': '2710.02', 'high': '3249.28', 'last': '3199.0', 'type': 'SPOT', 'open': 2725.0, 'volume': '26880.73', 'sell': '3199.91', 'buy': '3140.02', 'at': 1635282176, 'name': 'ATOM/INR'}, 'xlminr': {'base_unit': 'xlm', 'quote_unit': 'inr', 'low': '29.286', 'high': '30.0', 'last': '29.65', 'type': 'SPOT', 'open': 29.5891, 'volume': '723047.2', 'sell': '29.6396', 'buy': '29.52', 'at': 1635282176, 'name': 'XLM/INR'}, 'fetinr': {'base_unit': 'fet', 'quote_unit': 'inr', 'low': '46.0', 'high': '46.0', 'last': '46.0', 'type': 'SPOT', 'open': 46.0, 'volume': '0.0', 'sell': '0.0', 'buy': '0.0', 'at': 1635282176, 'name': 'FET/INR'}, 'xeminr': {'base_unit': 'xem', 'quote_unit': 'inr', 'low': '13.3', 'high': '13.9', 'last': '13.887', 'type': 'SPOT', 'open': 13.44, 'volume': '709597.0', 'sell': '13.887', 'buy': '13.702', 'at': 1635282176, 'name': 'XEM/INR'}, 'zecinr': {'base_unit': 'zec', 'quote_unit': 'inr', 'low': '12600.0', 'high': '13587.99', 'last': '12924.5', 'type': 'SPOT', 'open': 13120.0, 'volume': '863.736', 'sell': '12924.49', 'buy': '12801.58', 'at': 1635282176, 'name': 'ZEC/INR'}, 'busdinr': {'base_unit': 'busd', 'quote_unit': 'inr', 'low': '77.3', 'high': '78.0', 'last': '77.4', 'type': 'SPOT', 'open': 78.0, 'volume': '15875.19', 'sell': '77.7', 'buy': '77.43', 'at': 1635282176, 'name': 'BUSD/INR'}, 'yfiiinr': {'base_unit': 'yfii', 'quote_unit': 'inr', 'low': '310715.36', 'high': '332998.0', 'last': '332701.88', 'type': 'SPOT', 'open': 313076.66, 'volume': '33.860857', 'sell': '332701.88', 'buy': '330004.06', 'at': 1635282176, 'name': 'YFII/INR'}, 'dogeinr': {'base_unit': 'doge', 'quote_unit': 'inr', 'low': '20.2406', 'high': '21.23', 'last': '20.63', 'type': 'SPOT', 'open': 20.702, 'volume': '19140907.0', 'sell': '20.6345', 'buy': '20.63', 'at': 1635282176, 'name': 'DOGE/INR'}, 'dotinr': {'base_unit': 'dot', 'quote_unit': 'inr', 'low': '3380.0', 'high': '3550.0', 'last': '3550.0', 'type': 'SPOT', 'open': 3449.99, 'volume': '13347.55', 'sell': '3550.0', 'buy': '3516.57', 'at': 1635282176, 'name': 'DOT/INR'}, 'vetinr': {'base_unit': 'vet', 'quote_unit': 'inr', 'low': '10.80033', 'high': '11.42513', 'last': '11.38951', 'type': 'SPOT', 'open': 10.87501, 'volume': '7099219.0', 'sell': '11.37114', 'buy': '11.32527', 'at': 1635282176, 'name': 'VET/INR'}, 'crvinr': {'base_unit': 'crv', 'quote_unit': 'inr', 'low': '330.98', 'high': '409.99', 'last': '365.0', 'type': 'SPOT', 'open': 339.01, 'volume': '305229.528', 'sell': '369.98', 'buy': '365.0', 'at': 1635282176, 'name': 'CRV/INR'}, 'reninr': {'base_unit': 'ren', 'quote_unit': 'inr', 'low': '85.52', 'high': '91.8', 'last': '89.72', 'type': 'SPOT', 'open': 86.68, 'volume': '157500.2', 'sell': '89.7', 'buy': '89.28', 'at': 1635282176, 'name': 'REN/INR'}, 'enjinr': {'base_unit': 'enj', 'quote_unit': 'inr', 'low': '144.0132', 'high': '166.0165', 'last': '164.2378', 'type': 'SPOT', 'open': 145.0, 'volume': '554704.5', 'sell': '164.1576', 'buy': '163.4727', 'at': 1635282176, 'name': 'ENJ/INR'}, 'manainr': {'base_unit': 'mana', 'quote_unit': 'inr', 'low': '61.0032', 'high': '66.98', 'last': '64.9951', 'type': 'SPOT', 'open': 61.4001, 'volume': '127572.3', 'sell': '64.9951', 'buy': '64.5008', 'at': 1635282176, 'name': 'MANA/INR'}, 'hbarinr': {'base_unit': 'hbar', 'quote_unit': 'inr', 'low': '29.5009', 'high': '32.1', 'last': '31.18062', 'type': 'SPOT', 'open': 29.71511, 'volume': '1537993.6', 'sell': '31.18', 'buy': '31.1', 'at': 1635282176, 'name': 'HBAR/INR'}, 'umainr': {'base_unit': 'uma', 'quote_unit': 'inr', 'low': '912.0', 'high': '955.0', 'last': '928.7', 'type': 'SPOT', 'open': 927.44, 'volume': '7390.742', 'sell': '931.99', 'buy': '921.51', 'at': 1635282176, 'name': 'UMA/INR'}, 'chrinr': {'base_unit': 'chr', 'quote_unit': 'inr', 'low': '27.4203', 'high': '28.8055', 'last': '28.7998', 'type': 'SPOT', 'open': 27.55, 'volume': '1447429.0', 'sell': '28.7998', 'buy': '28.3302', 'at': 1635282176, 'name': 'CHR/INR'}, 'paxginr': {'base_unit': 'paxg', 'quote_unit': 'inr', 'low': '139450.0', 'high': '140896.0', 'last': '139455.0', 'type': 'SPOT', 'open': 140896.0, 'volume': '3.78456', 'sell': '139500.0', 'buy': '139456.0', 'at': 1635282176, 'name': 'PAXG/INR'}, '1inchinr': {'base_unit': '1inch', 'quote_unit': 'inr', 'low': '308.834', 'high': '324.196', 'last': '315.927', 'type': 'SPOT', 'open': 313.059, 'volume': '135460.39', 'sell': '315.929', 'buy': '315.927', 'at': 1635282176, 'name': '1INCH/INR'}, 'etcinr': {'base_unit': 'etc', 'quote_unit': 'inr', 'low': '4240.0', 'high': '4350.0', 'last': '4306.605', 'type': 'SPOT', 'open': 4278.0, 'volume': '4639.47', 'sell': '4305.688', 'buy': '4287.277', 'at': 1635282176, 'name': 'ETC/INR'}, 'uftinr': {'base_unit': 'uft', 'quote_unit': 'inr', 'low': '80.5', 'high': '84.5', 'last': '82.33', 'type': 'SPOT', 'open': 81.348, 'volume': '268022.1', 'sell': '82.996', 'buy': '82.366', 'at': 1635282176, 'name': 'UFT/INR'}, 'dockinr': {'base_unit': 'dock', 'quote_unit': 'inr', 'low': '6.473', 'high': '6.66', 'last': '6.624', 'type': 'SPOT', 'open': 6.509, 'volume': '3191682.0', 'sell': '6.624', 'buy': '6.582', 'at': 1635282176, 'name': 'DOCK/INR'}, 'filinr': {'base_unit': 'fil', 'quote_unit': 'inr', 'low': '4925.0', 'high': '5100.0', 'last': '4962.01', 'type': 'SPOT', 'open': 4997.98, 'volume': '3376.244', 'sell': '4990.0', 'buy': '4962.01', 'at': 1635282176, 'name': 'FIL/INR'}, 'wininr': {'base_unit': 'win', 'quote_unit': 'inr', 'low': '0.0485', 'high': '0.0507', 'last': '0.0499', 'type': 'SPOT', 'open': 0.0491, 'volume': '4630625599.0', 'sell': '0.0499', 'buy': '0.0498', 'at': 1635282176, 'name': 'WIN/INR'}, 'tkoinr': {'base_unit': 'tko', 'quote_unit': 'inr', 'low': '156.5', 'high': '159.65', 'last': '158.26', 'type': 'SPOT', 'open': 158.64, 'volume': '51025.55', 'sell': '158.26', 'buy': '157.05', 'at': 1635282177, 'name': 'TKO/INR'}, 'pushinr': {'base_unit': 'push', 'quote_unit': 'inr', 'low': '221.014', 'high': '229.0', 'last': '223.222', 'type': 'SPOT', 'open': 223.0, 'volume': '115649.39', 'sell': '224.0', 'buy': '223.222', 'at': 1635282177, 'name': 'PUSH/INR'}, 'avaxinr': {'base_unit': 'avax', 'quote_unit': 'inr', 'low': '5161.17', 'high': '5623.0', 'last': '5436.999', 'type': 'SPOT', 'open': 5201.499, 'volume': '6793.48', 'sell': '5524.998', 'buy': '5436.999', 'at': 1635282177, 'name': 'AVAX/INR'}, 'lunainr': {'base_unit': 'luna', 'quote_unit': 'inr', 'low': '3280.0', 'high': '3630.0', 'last': '3550.0', 'type': 'SPOT', 'open': 3290.34, 'volume': '15798.54', 'sell': '3602.59', 'buy': '3518.27', 'at': 1635282177, 'name': 'LUNA/INR'}, 'xvginr': {'base_unit': 'xvg', 'quote_unit': 'inr', 'low': '1.8003', 'high': '1.8629', 'last': '1.8139', 'type': 'SPOT', 'open': 1.8295, 'volume': '17195565.0', 'sell': '1.8139', 'buy': '1.803', 'at': 1635282177, 'name': 'XVG/INR'}, 'scinr': {'base_unit': 'sc', 'quote_unit': 'inr', 'low': '1.4368', 'high': '1.5079', 'last': '1.5008', 'type': 'SPOT', 'open': 1.461, 'volume': '19301962.0', 'sell': '1.5008', 'buy': '1.495', 'at': 1635282177, 'name': 'SC/INR'}, 'fttinr': {'base_unit': 'ftt', 'quote_unit': 'inr', 'low': '4900.0', 'high': '5385.0', 'last': '5030.0', 'type': 'SPOT', 'open': 5061.0, 'volume': '1729.023', 'sell': '5030.0', 'buy': '5001.0', 'at': 1635282177, 'name': 'FTT/INR'}, 'dgbinr': {'base_unit': 'dgb', 'quote_unit': 'inr', 'low': '3.85', 'high': '4.08', 'last': '4.03', 'type': 'SPOT', 'open': 3.86, 'volume': '8823393.0', 'sell': '4.03', 'buy': '4.0', 'at': 1635282177, 'name': 'DGB/INR'}, 'cvcinr': {'base_unit': 'cvc', 'quote_unit': 'inr', 'low': '36.601', 'high': '38.372', 'last': '37.99', 'type': 'SPOT', 'open': 36.997, 'volume': '553830.7', 'sell': '38.287', 'buy': '37.901', 'at': 1635282177, 'name': 'CVC/INR'}, 'cakeinr': {'base_unit': 'cake', 'quote_unit': 'inr', 'low': '1525.0', 'high': '1558.79', 'last': '1536.0', 'type': 'SPOT', 'open': 1545.01, 'volume': '4255.07', 'sell': '1536.0', 'buy': '1535.94', 'at': 1635282177, 'name': 'CAKE/INR'}, 'ezinr': {'base_unit': 'ez', 'quote_unit': 'inr', 'low': '395.0', 'high': '403.8', 'last': '397.0', 'type': 'SPOT', 'open': 401.05, 'volume': '24141.99', 'sell': '397.49', 'buy': '397.05', 'at': 1635282177, 'name': 'EZ/INR'}, 'bzrxinr': {'base_unit': 'bzrx', 'quote_unit': 'inr', 'low': '26.3', 'high': '29.147', 'last': '28.79', 'type': 'SPOT', 'open': 26.352, 'volume': '951244.79', 'sell': '28.79', 'buy': '28.315', 'at': 1635282177, 'name': 'BZRX/INR'}, 'ftminr': {'base_unit': 'ftm', 'quote_unit': 'inr', 'low': '228.542', 'high': '269.879', 'last': '250.504', 'type': 'SPOT', 'open': 231.558, 'volume': '1540299.2', 'sell': '250.504', 'buy': '250.298', 'at': 1635282177, 'name': 'FTM/INR'}, 'hntinr': {'base_unit': 'hnt', 'quote_unit': 'inr', 'low': '1648.93', 'high': '1938.5', 'last': '1929.98', 'type': 'SPOT', 'open': 1648.93, 'volume': '3931.443', 'sell': '1929.98', 'buy': '1910.01', 'at': 1635282177, 'name': 'HNT/INR'}, 'arkinr': {'base_unit': 'ark', 'quote_unit': 'inr', 'low': '126.5', 'high': '129.33', 'last': '127.98', 'type': 'SPOT', 'open': 128.0, 'volume': '23634.0', 'sell': '127.99', 'buy': '127.98', 'at': 1635282177, 'name': 'ARK/INR'}, 'ctsiinr': {'base_unit': 'ctsi', 'quote_unit': 'inr', 'low': '61.513', 'high': '68.89', 'last': '63.1', 'type': 'SPOT', 'open': 62.356, 'volume': '3035190.4', 'sell': '63.379', 'buy': '63.1', 'at': 1635282177, 'name': 'CTSI/INR'}, 'kmdinr': {'base_unit': 'kmd', 'quote_unit': 'inr', 'low': '81.5', 'high': '83.982', 'last': '81.7', 'type': 'SPOT', 'open': 82.0, 'volume': '100956.78', 'sell': '82.378', 'buy': '81.702', 'at': 1635282177, 'name': 'KMD/INR'}, 'solinr': {'base_unit': 'sol', 'quote_unit': 'inr', 'low': '15826.05', 'high': '16600.0', 'last': '15960.0', 'type': 'SPOT', 'open': 16463.75, 'volume': '5362.643', 'sell': '16027.66', 'buy': '15960.0', 'at': 1635282177, 'name': 'SOL/INR'}, 'cotiinr': {'base_unit': 'coti', 'quote_unit': 'inr', 'low': '40.006', 'high': '44.267', 'last': '43.539', 'type': 'SPOT', 'open': 40.06, 'volume': '3326650.8', 'sell': '43.58', 'buy': '43.475', 'at': 1635282177, 'name': 'COTI/INR'}, 'iotxinr': {'base_unit': 'iotx', 'quote_unit': 'inr', 'low': '5.16', 'high': '5.314', 'last': '5.3', 'type': 'SPOT', 'open': 5.173, 'volume': '10606661.0', 'sell': '5.302', 'buy': '5.3', 'at': 1635282177, 'name': 'IOTX/INR'}, 'shibinr': {'base_unit': 'shib', 'quote_unit': 'inr', 'low': '0.00314', 'high': '0.003844', 'last': '0.003657', 'type': 'SPOT', 'open': 0.003255, 'volume': '1851566618321.0', 'sell': '0.003658', 'buy': '0.003657', 'at': 1635282177, 'name': 'SHIB/INR'}, 'rlcinr': {'base_unit': 'rlc', 'quote_unit': 'inr', 'low': '325.0', 'high': '339.89', 'last': '339.89', 'type': 'SPOT', 'open': 326.61, 'volume': '21793.09', 'sell': '339.88', 'buy': '335.01', 'at': 1635282177, 'name': 'RLC/INR'}, 'trbinr': {'base_unit': 'trb', 'quote_unit': 'inr', 'low': '4290.01', 'high': '4501.44', 'last': '4500.99', 'type': 'SPOT', 'open': 4320.99, 'volume': '714.382', 'sell': '4500.99', 'buy': '4380.01', 'at': 1635282177, 'name': 'TRB/INR'}, 'reefinr': {'base_unit': 'reef', 'quote_unit': 'inr', 'low': '2.3241', 'high': '2.5199', 'last': '2.4209', 'type': 'SPOT', 'open': 2.3531, 'volume': '15523504.0', 'sell': '2.4463', 'buy': '2.4211', 'at': 1635282177, 'name': 'REEF/INR'}, 'icpinr': {'base_unit': 'icp', 'quote_unit': 'inr', 'low': '3610.29', 'high': '3989.49', 'last': '3770.0', 'type': 'SPOT', 'open': 3652.63, 'volume': '46167.93', 'sell': '3768.95', 'buy': '3755.01', 'at': 1635282177, 'name': 'ICP/INR'}, 'ontinr': {'base_unit': 'ont', 'quote_unit': 'inr', 'low': '74.01', 'high': '77.0', 'last': '77.0', 'type': 'SPOT', 'open': 74.64, 'volume': '35693.63', 'sell': '77.15', 'buy': '75.51', 'at': 1635282177, 'name': 'ONT/INR'}, 'ckbinr': {'base_unit': 'ckb', 'quote_unit': 'inr', 'low': '1.596', 'high': '1.766', 'last': '1.6789', 'type': 'SPOT', 'open': 1.6827, 'volume': '80984795.0', 'sell': '1.6789', 'buy': '1.67', 'at': 1635282177, 'name': 'CKB/INR'}, 'pntinr': {'base_unit': 'pnt', 'quote_unit': 'inr', 'low': '93.469', 'high': '101.1', 'last': '93.638', 'type': 'SPOT', 'open': 99.769, 'volume': '460024.02', 'sell': '94.294', 'buy': '93.634', 'at': 1635282177, 'name': 'PNT/INR'}, 'xvsinr': {'base_unit': 'xvs', 'quote_unit': 'inr', 'low': '2230.33', 'high': '2371.99', 'last': '2267.7', 'type': 'SPOT', 'open': 2357.63, 'volume': '7467.683', 'sell': '2267.71', 'buy': '2250.0', 'at': 1635282177, 'name': 'XVS/INR'}, 'viteinr': {'base_unit': 'vite', 'quote_unit': 'inr', 'low': '8.2', 'high': '8.7531', 'last': '8.55', 'type': 'SPOT', 'open': 8.2542, 'volume': '5404321.91', 'sell': '8.545', 'buy': '8.5413', 'at': 1635282177, 'name': 'VITE/INR'}, 'dcrinr': {'base_unit': 'dcr', 'quote_unit': 'inr', 'low': '9201.0', 'high': '9798.0', 'last': '9450.0', 'type': 'SPOT', 'open': 9798.0, 'volume': '1052.7353', 'sell': '9450.0', 'buy': '9426.19', 'at': 1635282177, 'name': 'DCR/INR'}, 'mdxinr': {'base_unit': 'mdx', 'quote_unit': 'inr', 'low': '89.12', 'high': '91.3', 'last': '90.1', 'type': 'SPOT', 'open': 89.84, 'volume': '532317.1', 'sell': '90.1', 'buy': '89.91', 'at': 1635282177, 'name': 'MDX/INR'}, 'phainr': {'base_unit': 'pha', 'quote_unit': 'inr', 'low': '58.505', 'high': '59.837', 'last': '58.801', 'type': 'SPOT', 'open': 59.05, 'volume': '204045.22', 'sell': '59.1', 'buy': '58.751', 'at': 1635282177, 'name': 'PHA/INR'}, 'runeinr': {'base_unit': 'rune', 'quote_unit': 'inr', 'low': '979.47', 'high': '1078.85', 'last': '981.03', 'type': 'SPOT', 'open': 1009.38, 'volume': '57646.558', 'sell': '986.99', 'buy': '981.05', 'at': 1635282177, 'name': 'RUNE/INR'}, 'ogninr': {'base_unit': 'ogn', 'quote_unit': 'inr', 'low': '64.0', 'high': '68.38', 'last': '68.379', 'type': 'SPOT', 'open': 64.382, 'volume': '89826.53', 'sell': '68.37', 'buy': '66.206', 'at': 1635282177, 'name': 'OGN/INR'}, 'mirinr': {'base_unit': 'mir', 'quote_unit': 'inr', 'low': '232.51', 'high': '246.61', 'last': '238.76', 'type': 'SPOT', 'open': 235.99, 'volume': '29851.488', 'sell': '238.71', 'buy': '234.04', 'at': 1635282177, 'name': 'MIR/INR'}, 'datainr': {'base_unit': 'data', 'quote_unit': 'inr', 'low': '10.82', 'high': '11.35', 'last': '11.07', 'type': 'SPOT', 'open': 10.8501, 'volume': '4808426.0', 'sell': '11.1176', 'buy': '11.07', 'at': 1635282177, 'name': 'DATA/INR'}, 'ksminr': {'base_unit': 'ksm', 'quote_unit': 'inr', 'low': '30250.0', 'high': '31724.99', 'last': '30835.22', 'type': 'SPOT', 'open': 31387.99, 'volume': '120.133', 'sell': '30835.22', 'buy': '30500.24', 'at': 1635282177, 'name': 'KSM/INR'}, 'nkninr': {'base_unit': 'nkn', 'quote_unit': 'inr', 'low': '33.6047', 'high': '35.0', 'last': '34.0013', 'type': 'SPOT', 'open': 33.8889, 'volume': '724312.5', 'sell': '34.1988', 'buy': '34.0014', 'at': 1635282177, 'name': 'NKN/INR'}, 'balinr': {'base_unit': 'bal', 'quote_unit': 'inr', 'low': '1720.01', 'high': '1950.0', 'last': '1948.04', 'type': 'SPOT', 'open': 1729.99, 'volume': '2419.056', 'sell': '1948.04', 'buy': '1866.98', 'at': 1635282177, 'name': 'BAL/INR'}, 'dntinr': {'base_unit': 'dnt', 'quote_unit': 'inr', 'low': '13.55', 'high': '13.99', 'last': '13.5801', 'type': 'SPOT', 'open': 13.9183, 'volume': '3929530.8', 'sell': '13.63', 'buy': '13.5801', 'at': 1635282177, 'name': 'DNT/INR'}, 'keepinr': {'base_unit': 'keep', 'quote_unit': 'inr', 'low': '57.001', 'high': '65.031', 'last': '58.597', 'type': 'SPOT', 'open': 62.242, 'volume': '3217613.0', 'sell': '58.597', 'buy': '58.302', 'at': 1635282177, 'name': 'KEEP/INR'}, 'snxinr': {'base_unit': 'snx', 'quote_unit': 'inr', 'low': '751.002', 'high': '854.0', 'last': '833.001', 'type': 'SPOT', 'open': 760.0, 'volume': '25500.952', 'sell': '843.978', 'buy': '833.002', 'at': 1635282177, 'name': 'SNX/INR'}, 'axsinr': {'base_unit': 'axs', 'quote_unit': 'inr', 'low': '10000.0', 'high': '10774.99', 'last': '10438.97', 'type': 'SPOT', 'open': 10200.0, 'volume': '2269.26', 'sell': '10437.98', 'buy': '10334.01', 'at': 1635282177, 'name': 'AXS/INR'}, 'celrinr': {'base_unit': 'celr', 'quote_unit': 'inr', 'low': '11.0722', 'high': '12.5659', 'last': '11.76', 'type': 'SPOT', 'open': 11.2175, 'volume': '24305195.0', 'sell': '11.9148', 'buy': '11.7612', 'at': 1635282177, 'name': 'CELR/INR'}, 'alphainr': {'base_unit': 'alpha', 'quote_unit': 'inr', 'low': '80.01', 'high': '88.36', 'last': '88.1', 'type': 'SPOT', 'open': 81.04, 'volume': '163305.27', 'sell': '88.0', 'buy': '86.06', 'at': 1635282177, 'name': 'ALPHA/INR'}, 'compinr': {'base_unit': 'comp', 'quote_unit': 'inr', 'low': '24653.0', 'high': '27989.0', 'last': '27123.0', 'type': 'SPOT', 'open': 24654.0, 'volume': '478.785', 'sell': '27123.0', 'buy': '26801.0', 'at': 1635282177, 'name': 'COMP/INR'}, 'aliceinr': {'base_unit': 'alice', 'quote_unit': 'inr', 'low': '936.0', 'high': '989.99', 'last': '982.0', 'type': 'SPOT', 'open': 940.0, 'volume': '35034.05', 'sell': '981.99', 'buy': '975.51', 'at': 1635282177, 'name': 'ALICE/INR'}, 'egldinr': {'base_unit': 'egld', 'quote_unit': 'inr', 'low': '21500.0', 'high': '22797.69', 'last': '21686.63', 'type': 'SPOT', 'open': 22697.93, 'volume': '419.838', 'sell': '21833.84', 'buy': '21633.79', 'at': 1635282177, 'name': 'EGLD/INR'}, 'klayinr': {'base_unit': 'klay', 'quote_unit': 'inr', 'low': '0.0', 'high': '0.0', 'last': '0.0', 'type': 'SPOT', 'open': '0.0', 'volume': '0.0', 'sell': '0.0', 'buy': '0.0', 'at': 1635282177, 'name': 'KLAY/INR'}, 'sandinr': {'base_unit': 'sand', 'quote_unit': 'inr', 'low': '61.00033', 'high': '67.45097', 'last': '65.50666', 'type': 'SPOT', 'open': 62.09987, 'volume': '304713.0', 'sell': '66.89998', 'buy': '65.50666', 'at': 1635282177, 'name': 'SAND/INR'}, 'frontinr': {'base_unit': 'front', 'quote_unit': 'inr', 'low': '97.01', 'high': '99.6', 'last': '98.047', 'type': 'SPOT', 'open': 98.45, 'volume': '273327.83', 'sell': '97.999', 'buy': '97.601', 'at': 1635282177, 'name': 'FRONT/INR'}, 'lrcinr': {'base_unit': 'lrc', 'quote_unit': 'inr', 'low': '32.62182', 'high': '34.41', 'last': '33.16001', 'type': 'SPOT', 'open': 32.9, 'volume': '596066.5', 'sell': '33.68999', 'buy': '33.16001', 'at': 1635282177, 'name': 'LRC/INR'}, 'stxinr': {'base_unit': 'stx', 'quote_unit': 'inr', 'low': '168.192', 'high': '171.994', 'last': '170.699', 'type': 'SPOT', 'open': 171.991, 'volume': '90120.45', 'sell': '170.698', 'buy': '168.765', 'at': 1635282177, 'name': 'STX/INR'}, 'algoinr': {'base_unit': 'algo', 'quote_unit': 'inr', 'low': '152.01', 'high': '163.75', 'last': '158.5', 'type': 'SPOT', 'open': 153.01, 'volume': '141845.464', 'sell': '158.5', 'buy': '158.49', 'at': 1635282177, 'name': 'ALGO/INR'}, 'pondinr': {'base_unit': 'pond', 'quote_unit': 'inr', 'low': '0.0', 'high': '0.0', 'last': '0.0', 'type': 'SPOT', 'open': '0.0', 'volume': '0.0', 'sell': '0.0', 'buy': '0.0', 'at': 1635282177, 'name': 'POND/INR'}, 'alpacainr': {'base_unit': 'alpaca', 'quote_unit': 'inr', 'low': '0.0', 'high': '0.0', 'last': '0.0', 'type': 'SPOT', 'open': '0.0', 'volume': '0.0', 'sell': '0.0', 'buy': '0.0', 'at': 1635282177, 'name': 'ALPACA/INR'}, 'xecinr': {'base_unit': 'xec', 'quote_unit': 'inr', 'low': '0.014761', 'high': '0.01512', 'last': '0.0150132', 'type': 'SPOT', 'open': 0.014898, 'volume': '4839642112.0', 'sell': '0.0150132', 'buy': '0.0150131', 'at': 1635282177, 'name': 'XEC/INR'}, 'ilvinr': {'base_unit': 'ilv', 'quote_unit': 'inr', 'low': '0.0', 'high': '0.0', 'last': '0.0', 'type': 'SPOT', 'open': '0.0', 'volume': '0.0', 'sell': '0.0', 'buy': '0.0', 'at': 1635282177, 'name': 'ILV/INR'}, 'mlninr': {'base_unit': 'mln', 'quote_unit': 'inr', 'low': '0.0', 'high': '0.0', 'last': '0.0', 'type': 'SPOT', 'open': '0.0', 'volume': '0.0', 'sell': '0.0', 'buy': '0.0', 'at': 1635282177, 'name': 'MLN/INR'}, 'dydxinr': {'base_unit': 'dydx', 'quote_unit': 'inr', 'low': '0.0', 'high': '0.0', 'last': '0.0', 'type': 'SPOT', 'open': '0.0', 'volume': '0.0', 'sell': '0.0', 'buy': '0.0', 'at': 1635282177, 'name': 'DYDX/INR'}, 'cfxinr': {'base_unit': 'cfx', 'quote_unit': 'inr', 'low': '0.0', 'high': '0.0', 'last': '0.0', 'type': 'SPOT', 'open': '0.0', 'volume': '0.0', 'sell': '0.0', 'buy': '0.0', 'at': 1635282177, 'name': 'CFX/INR'}, 'stptinr': {'base_unit': 'stpt', 'quote_unit': 'inr', 'low': '0.0', 'high': '0.0', 'last': '0.0', 'type': 'SPOT', 'open': '0.0', 'volume': '0.0', 'sell': '0.0', 'buy': '0.0', 'at': 1635282177, 'name': 'STPT/INR'}, 'radinr': {'base_unit': 'rad', 'quote_unit': 'inr', 'low': '0.0', 'high': '0.0', 'last': '0.0', 'type': 'SPOT', 'open': '0.0', 'volume': '0.0', 'sell': '0.0', 'buy': '0.0', 'at': 1635282177, 'name': 'RAD/INR'}, 'burgerinr': {'base_unit': 'burger', 'quote_unit': 'inr', 'low': '0.0', 'high': '0.0', 'last': '0.0', 'type': 'SPOT', 'open': '0.0', 'volume': '0.0', 'sell': '0.0', 'buy': '0.0', 'at': 1635282177, 'name': 'BURGER/INR'}, 'bcdinr': {'base_unit': 'bcd', 'quote_unit': 'inr', 'low': '0.0', 'high': '0.0', 'last': '0.0', 'type': 'SPOT', 'open': '0.0', 'volume': '0.0', 'sell': '0.0', 'buy': '0.0', 'at': 1635282177, 'name': 'BCD/INR'}, 'roseinr': {'base_unit': 'rose', 'quote_unit': 'inr', 'low': '0.0', 'high': '0.0', 'last': '0.0', 'type': 'SPOT', 'open': '0.0', 'volume': '0.0', 'sell': '0.0', 'buy': '0.0', 'at': 1635282177, 'name': 'ROSE/INR'}, 'scrtinr': {'base_unit': 'scrt', 'quote_unit': 'inr', 'low': '0.0', 'high': '0.0', 'last': '0.0', 'type': 'SPOT', 'open': '0.0', 'volume': '0.0', 'sell': '0.0', 'buy': '0.0', 'at': 1635282177, 'name': 'SCRT/INR'}, 'sysinr': {'base_unit': 'sys', 'quote_unit': 'inr', 'low': '0.0', 'high': '0.0', 'last': '0.0', 'type': 'SPOT', 'open': '0.0', 'volume': '0.0', 'sell': '0.0', 'buy': '0.0', 'at': 1635282177, 'name': 'SYS/INR'}, 'agldinr': {'base_unit': 'agld', 'quote_unit': 'inr', 'low': '0.0', 'high': '0.0', 'last': '0.0', 'type': 'SPOT', 'open': '0.0', 'volume': '0.0', 'sell': '0.0', 'buy': '0.0', 'at': 1635282177, 'name': 'AGLD/INR'}, 'ltcinr': {'base_unit': 'ltc', 'quote_unit': 'inr', 'low': '14830.04', 'high': '15278.57', 'last': '15169.44', 'type': 'SPOT', 'open': 15067.07, 'volume': '1157.079', 'sell': '15189.99', 'buy': '15169.45', 'at': 1635282177, 'name': 'LTC/INR'}, 'dashinr': {'base_unit': 'dash', 'quote_unit': 'inr', 'low': '15599.0', 'high': '16099.0', 'last': '15840.0', 'type': 'SPOT', 'open': 15929.0, 'volume': '211.523', 'sell': '15840.0', 'buy': '15751.0', 'at': 1635282177, 'name': 'DASH/INR'}, 'xrpbtc': {'base_unit': 'xrp', 'quote_unit': 'btc', 'low': '0.00001722', 'high': '0.00001853', 'last': '0.00001853', 'type': 'SPOT', 'open': 1.722e-05, 'volume': '5325.6', 'sell': '0.00001853', 'buy': '0.00001848', 'at': 1635282177, 'name': 'XRP/BTC'}, 'trxbtc': {'base_unit': 'trx', 'quote_unit': 'btc', 'low': '0.00000161', 'high': '0.0000017', 'last': '0.00000167', 'type': 'SPOT', 'open': 1.62e-06, 'volume': '138771.0', 'sell': '0.00000167', 'buy': '0.00000164', 'at': 1635282177, 'name': 'TRX/BTC'}, 'ethbtc': {'base_unit': 'eth', 'quote_unit': 'btc', 'low': '0.066653', 'high': '0.0688', 'last': '0.0688', 'type': 'SPOT', 'open': 0.067067, 'volume': '3.2565', 'sell': '0.068956', 'buy': '0.0688', 'at': 1635282177, 'name': 'ETH/BTC'}, 'zilbtc': {'base_unit': 'zil', 'quote_unit': 'btc', 'low': '0.00000174', 'high': '0.00000179', 'last': '0.00000177', 'type': 'SPOT', 'open': 1.78e-06, 'volume': '2177.0', 'sell': '0.00000178', 'buy': '0.00000175', 'at': 1635282177, 'name': 'ZIL/BTC'}, 'batbtc': {'base_unit': 'bat', 'quote_unit': 'btc', 'low': '0.00001096', 'high': '0.00001165', 'last': '0.00001165', 'type': 'SPOT', 'open': 1.096e-05, 'volume': '625.9', 'sell': '0.00001185', 'buy': '0.00001163', 'at': 1635282177, 'name': 'BAT/BTC'}, 'ltcbtc': {'base_unit': 'ltc', 'quote_unit': 'btc', 'low': '0.003109', 'high': '0.003144', 'last': '0.003123', 'type': 'SPOT', 'open': 0.003111, 'volume': '7.808', 'sell': '0.003179', 'buy': '0.003134', 'at': 1635282177, 'name': 'LTC/BTC'}, 'qkcbtc': {'base_unit': 'qkc', 'quote_unit': 'btc', 'low': '0.00000045', 'high': '0.00000049', 'last': '0.00000047', 'type': 'SPOT', 'open': 4.7e-07, 'volume': '39773.0', 'sell': '0.00000049', 'buy': '0.00000046', 'at': 1635282177, 'name': 'QKC/BTC'}, 'dashbtc': {'base_unit': 'dash', 'quote_unit': 'btc', 'low': '0.003258', 'high': '0.003456', 'last': '0.003288', 'type': 'SPOT', 'open': 0.003322, 'volume': '5.751', 'sell': '0.003315', 'buy': '0.003288', 'at': 1635282177, 'name': 'DASH/BTC'}, 'funbtc': {'base_unit': 'fun', 'quote_unit': 'btc', 'low': '0.00000032', 'high': '0.00000034', 'last': '0.00000034', 'type': 'SPOT', 'open': 3.4e-07, 'volume': '470155.0', 'sell': '0.00000034', 'buy': '0.00000031', 'at': 1635282177, 'name': 'FUN/BTC'}, 'iostbtc': {'base_unit': 'iost', 'quote_unit': 'btc', 'low': '0.00000079', 'high': '0.00000083', 'last': '0.00000083', 'type': 'SPOT', 'open': 7.9e-07, 'volume': '13273.0', 'sell': '0.00000085', 'buy': '0.00000082', 'at': 1635282177, 'name': 'IOST/BTC'}, 'nulsbtc': {'base_unit': 'nuls', 'quote_unit': 'btc', 'low': '0.00000908', 'high': '0.00000954', 'last': '0.00000954', 'type': 'SPOT', 'open': 9.08e-06, 'volume': '726.0', 'sell': '0.00000969', 'buy': '0.00000942', 'at': 1635282177, 'name': 'NULS/BTC'}, 'omgbtc': {'base_unit': 'omg', 'quote_unit': 'btc', 'low': '0.000231', 'high': '0.000234', 'last': '0.000231', 'type': 'SPOT', 'open': 0.000234, 'volume': '13.63', 'sell': '0.000234', 'buy': '0.000229', 'at': 1635282177, 'name': 'OMG/BTC'}, 'reqbtc': {'base_unit': 'req', 'quote_unit': 'btc', 'low': '0.00000351', 'high': '0.00000357', 'last': '0.00000376', 'type': 'SPOT', 'open': 3.51e-06, 'volume': '41.0', 'sell': '0.00000351', 'buy': '0.00000345', 'at': 1635282177, 'name': 'REQ/BTC'}, 'sntbtc': {'base_unit': 'snt', 'quote_unit': 'btc', 'low': '0.00000139', 'high': '0.00000146', 'last': '0.00000143', 'type': 'SPOT', 'open': 1.39e-06, 'volume': '1215.0', 'sell': '0.00000143', 'buy': '0.0000014', 'at': 1635282177, 'name': 'SNT/BTC'}, 'thetabtc': {'base_unit': 'theta', 'quote_unit': 'btc', 'low': '0.0001062', 'high': '0.0001181', 'last': '0.0001181', 'type': 'SPOT', 'open': 0.0001062, 'volume': '875.7', 'sell': '0.000118', 'buy': '0.0001161', 'at': 1635282177, 'name': 'THETA/BTC'}, 'zrxbtc': {'base_unit': 'zrx', 'quote_unit': 'btc', 'low': '0.00001621', 'high': '0.00001752', 'last': '0.0000174', 'type': 'SPOT', 'open': 1.629e-05, 'volume': '2120.01', 'sell': '0.00001774', 'buy': '0.00001712', 'at': 1635282177, 'name': 'ZRX/BTC'}, 'eosbtc': {'base_unit': 'eos', 'quote_unit': 'btc', 'low': '0.0000738', 'high': '0.000079', 'last': '0.000079', 'type': 'SPOT', 'open': 7.72e-05, 'volume': '163.92', 'sell': '0.0000787', 'buy': '0.0000765', 'at': 1635282177, 'name': 'EOS/BTC'}, 'icxbtc': {'base_unit': 'icx', 'quote_unit': 'btc', 'low': '0.0000328', 'high': '0.0000337', 'last': '0.0000331', 'type': 'SPOT', 'open': 3.33e-05, 'volume': '734.23', 'sell': '0.0000341', 'buy': '0.0000334', 'at': 1635282177, 'name': 'ICX/BTC'}, 'polybtc': {'base_unit': 'poly', 'quote_unit': 'btc', 'low': '0.00001119', 'high': '0.00001149', 'last': '0.00001149', 'type': 'SPOT', 'open': 1.129e-05, 'volume': '958.0', 'sell': '0.00001154', 'buy': '0.00001135', 'at': 1635282177, 'name': 'POLY/BTC'}, 'usdcbtc': {'base_unit': 'usdc', 'quote_unit': 'btc', 'low': '0.0', 'high': '0.0', 'last': '0.0', 'type': 'SPOT', 'open': '0.0', 'volume': '0.0', 'sell': '0.0', 'buy': '0.0', 'at': 1635282177, 'name': 'USDC/BTC'}, 'xlmbtc': {'base_unit': 'xlm', 'quote_unit': 'btc', 'low': '0.0', 'high': '0.0', 'last': '0.0', 'type': 'SPOT', 'open': '0.0', 'volume': '0.0', 'sell': '0.0', 'buy': '0.0', 'at': 1635282177, 'name': 'XLM/BTC'}, 'fetbtc': {'base_unit': 'fet', 'quote_unit': 'btc', 'low': '0.00001184', 'high': '0.0000155', 'last': '0.00001331', 'type': 'SPOT', 'open': 1.184e-05, 'volume': '1881.0', 'sell': '0.00001349', 'buy': '0.00001331', 'at': 1635282177, 'name': 'FET/BTC'}, 'celrbtc': {'base_unit': 'celr', 'quote_unit': 'btc', 'low': '0.00000225', 'high': '0.00000257', 'last': '0.00000245', 'type': 'SPOT', 'open': 2.3e-06, 'volume': '32875.0', 'sell': '0.00000248', 'buy': '0.00000245', 'at': 1635282177, 'name': 'CELR/BTC'}, 'maticbtc': {'base_unit': 'matic', 'quote_unit': 'btc', 'low': '0.00002575', 'high': '0.0000295', 'last': '0.00002897', 'type': 'SPOT', 'open': 2.575e-05, 'volume': '17931.8', 'sell': '0.00002927', 'buy': '0.00002893', 'at': 1635282177, 'name': 'MATIC/BTC'}, 'adabtc': {'base_unit': 'ada', 'quote_unit': 'btc', 'low': '0.000034', 'high': '0.00003522', 'last': '0.0000352', 'type': 'SPOT', 'open': 3.413e-05, 'volume': '4009.3', 'sell': '0.0000352', 'buy': '0.00003519', 'at': 1635282177, 'name': 'ADA/BTC'}, 'rvnbtc': {'base_unit': 'rvn', 'quote_unit': 'btc', 'low': '0.00000193', 'high': '0.00000196', 'last': '0.00000196', 'type': 'SPOT', 'open': 1.94e-06, 'volume': '1182.0', 'sell': '0.00000197', 'buy': '0.00000194', 'at': 1635282177, 'name': 'RVN/BTC'}, 'xmrbtc': {'base_unit': 'xmr', 'quote_unit': 'btc', 'low': '0.004527', 'high': '0.004666', 'last': '0.004652', 'type': 'SPOT', 'open': 0.004666, 'volume': '7.078', 'sell': '0.004741', 'buy': '0.004682', 'at': 1635282177, 'name': 'XMR/BTC'}, 'atombtc': {'base_unit': 'atom', 'quote_unit': 'btc', 'low': '0.0005561', 'high': '0.00067', 'last': '0.0006592', 'type': 'SPOT', 'open': 0.0005566, 'volume': '1970.84', 'sell': '0.0006695', 'buy': '0.0006638', 'at': 1635282177, 'name': 'ATOM/BTC'}, 'bnbbtc': {'base_unit': 'bnb', 'quote_unit': 'btc', 'low': '0.007703', 'high': '0.007945', 'last': '0.007817', 'type': 'SPOT', 'open': 0.007718, 'volume': '104.042', 'sell': '0.007854', 'buy': '0.007823', 'at': 1635282177, 'name': 'BNB/BTC'}, 'wrxbtc': {'base_unit': 'wrx', 'quote_unit': 'btc', 'low': '0.00002111', 'high': '0.00002344', 'last': '0.00002325', 'type': 'SPOT', 'open': 2.136e-05, 'volume': '35943.4', 'sell': '0.0000233', 'buy': '0.00002288', 'at': 1635282177, 'name': 'WRX/BTC'}, 'fttbtc': {'base_unit': 'ftt', 'quote_unit': 'btc', 'low': '0.0010265', 'high': '0.0010927', 'last': '0.0010338', 'type': 'SPOT', 'open': 0.0010355, 'volume': '84.706', 'sell': '0.0010477', 'buy': '0.0010386', 'at': 1635282177, 'name': 'FTT/BTC'}, 'stmxbtc': {'base_unit': 'stmx', 'quote_unit': 'btc', 'low': '0.0000005', 'high': '0.00000052', 'last': '0.00000052', 'type': 'SPOT', 'open': 5e-07, 'volume': '22980.0', 'sell': '0.00000052', 'buy': '0.0000005', 'at': 1635282177, 'name': 'STMX/BTC'}, 'glmbtc': {'base_unit': 'glm', 'quote_unit': 'btc', 'low': '0.0', 'high': '0.0', 'last': '0.0', 'type': 'SPOT', 'open': '0.0', 'volume': '0.0', 'sell': '0.0', 'buy': '0.0', 'at': 1635282177, 'name': 'GLM/BTC'}, 'btcusdt': {'base_unit': 'btc', 'quote_unit': 'usdt', 'low': '61833.0', 'high': '63187.0', 'last': '62157.0', 'type': 'SPOT', 'open': 62613.0, 'volume': '8.1591', 'sell': '62126.0', 'buy': '61907.0', 'at': 1635282177, 'name': 'BTC/USDT'}, 'trxusdt': {'base_unit': 'trx', 'quote_unit': 'usdt', 'low': '0.10006', 'high': '0.10549', 'last': '0.10273', 'type': 'SPOT', 'open': 0.1003, 'volume': '4417323.0', 'sell': '0.10329', 'buy': '0.10273', 'at': 1635282177, 'name': 'TRX/USDT'}, 'xrpusdt': {'base_unit': 'xrp', 'quote_unit': 'usdt', 'low': '1.09', 'high': '1.15678', 'last': '1.15438', 'type': 'SPOT', 'open': 1.09013, 'volume': '292136.3', 'sell': '1.15299', 'buy': '1.1486', 'at': 1635282177, 'name': 'XRP/USDT'}, 'eosusdt': {'base_unit': 'eos', 'quote_unit': 'usdt', 'low': '4.7561', 'high': '4.9249', 'last': '4.804', 'type': 'SPOT', 'open': 4.811, 'volume': '1590.32', 'sell': '4.837', 'buy': '4.811', 'at': 1635282177, 'name': 'EOS/USDT'}, 'ethusdt': {'base_unit': 'eth', 'quote_unit': 'usdt', 'low': '4140.01', 'high': '4296.0', 'last': '4268.01', 'type': 'SPOT', 'open': 4186.64, 'volume': '208.5344', 'sell': '4266.43', 'buy': '4258.96', 'at': 1635282177, 'name': 'ETH/USDT'}, 'icxusdt': {'base_unit': 'icx', 'quote_unit': 'usdt', 'low': '2.05', 'high': '2.107', 'last': '2.09', 'type': 'SPOT', 'open': 2.1, 'volume': '11027.83', 'sell': '2.1', 'buy': '2.091', 'at': 1635282177, 'name': 'ICX/USDT'}, 'ltcusdt': {'base_unit': 'ltc', 'quote_unit': 'usdt', 'low': '190.0', 'high': '197.0', 'last': '195.5', 'type': 'SPOT', 'open': 195.0, 'volume': '393.709', 'sell': '195.79', 'buy': '195.3', 'at': 1635282177, 'name': 'LTC/USDT'}, 'tusdusdt': {'base_unit': 'tusd', 'quote_unit': 'usdt', 'low': '0.9955', 'high': '1.0018', 'last': '0.9955', 'type': 'SPOT', 'open': 1.0015, 'volume': '29624.84', 'sell': '1.0015', 'buy': '0.9955', 'at': 1635282177, 'name': 'TUSD/USDT'}, 'hotusdt': {'base_unit': 'hot', 'quote_unit': 'usdt', 'low': '0.009508', 'high': '0.011838', 'last': '0.011295', 'type': 'SPOT', 'open': 0.009511, 'volume': '21225785.0', 'sell': '0.0113439', 'buy': '0.011272', 'at': 1635282177, 'name': 'HOT/USDT'}, 'batusdt': {'base_unit': 'bat', 'quote_unit': 'usdt', 'low': '0.6948', 'high': '0.7367', 'last': '0.7252', 'type': 'SPOT', 'open': 0.6948, 'volume': '18689.27', 'sell': '0.7307', 'buy': '0.7252', 'at': 1635282177, 'name': 'BAT/USDT'}, 'dashusdt': {'base_unit': 'dash', 'quote_unit': 'usdt', 'low': '200.2', 'high': '207.11', 'last': '203.7', 'type': 'SPOT', 'open': 204.9, 'volume': '58.981', 'sell': '204.7', 'buy': '203.6', 'at': 1635282177, 'name': 'DASH/USDT'}, 'ncashusdt': {'base_unit': 'ncash', 'quote_unit': 'usdt', 'low': '0.003541', 'high': '0.00399', 'last': '0.003795', 'type': 'SPOT', 'open': 0.003541, 'volume': '41968326.0', 'sell': '0.003814', 'buy': '0.003795', 'at': 1635282177, 'name': 'NCASH/USDT'}, 'qkcusdt': {'base_unit': 'qkc', 'quote_unit': 'usdt', 'low': '0.02885', 'high': '0.03', 'last': '0.02907', 'type': 'SPOT', 'open': 0.02958, 'volume': '1276173.0', 'sell': '0.02968', 'buy': '0.02905', 'at': 1635282177, 'name': 'QKC/USDT'}, 'zilusdt': {'base_unit': 'zil', 'quote_unit': 'usdt', 'low': '0.10735', 'high': '0.11324', 'last': '0.11009', 'type': 'SPOT', 'open': 0.11119, 'volume': '415554.0', 'sell': '0.11036', 'buy': '0.1096', 'at': 1635282177, 'name': 'ZIL/USDT'}, 'zrxusdt': {'base_unit': 'zrx', 'quote_unit': 'usdt', 'low': '1.0002', 'high': '1.1', 'last': '1.0798', 'type': 'SPOT', 'open': 1.0002, 'volume': '13954.64', 'sell': '1.0886', 'buy': '1.0813', 'at': 1635282177, 'name': 'ZRX/USDT'}, 'bchusdt': {'base_unit': 'bch', 'quote_unit': 'usdt', 'low': '609.0', 'high': '630.1', 'last': '620.9', 'type': 'SPOT', 'open': 617.3, 'volume': '46.6521', 'sell': '625.0', 'buy': '621.1', 'at': 1635282177, 'name': 'BCH/USDT'}, 'bchsvusdt': {'base_unit': 'bchsv', 'quote_unit': 'usdt', 'low': '169.0', 'high': '174.46', 'last': '174.0', 'type': 'SPOT', 'open': 173.99, 'volume': '15.266', 'sell': '174.0', 'buy': '170.02', 'at': 1635282177, 'name': 'BCHSV/USDT'}, 'usdcusdt': {'base_unit': 'usdc', 'quote_unit': 'usdt', 'low': '0.985', 'high': '0.995', 'last': '0.986', 'type': 'SPOT', 'open': 0.994, 'volume': '39975.72', 'sell': '0.988', 'buy': '0.986', 'at': 1635282177, 'name': 'USDC/USDT'}, 'omgusdt': {'base_unit': 'omg', 'quote_unit': 'usdt', 'low': '14.2419', 'high': '14.687', 'last': '14.377', 'type': 'SPOT', 'open': 14.3739, 'volume': '500.83', 'sell': '14.4413', 'buy': '14.365', 'at': 1635282177, 'name': 'OMG/USDT'}, 'polyusdt': {'base_unit': 'poly', 'quote_unit': 'usdt', 'low': '0.7012', 'high': '0.7249', 'last': '0.711', 'type': 'SPOT', 'open': 0.7141, 'volume': '26690.0', 'sell': '0.7159', 'buy': '0.7043', 'at': 1635282177, 'name': 'POLY/USDT'}, 'dentusdt': {'base_unit': 'dent', 'quote_unit': 'usdt', 'low': '0.005909', 'high': '0.006555', 'last': '0.006293', 'type': 'SPOT', 'open': 0.005909, 'volume': '26501858.0', 'sell': '0.006352', 'buy': '0.006289', 'at': 1635282177, 'name': 'DENT/USDT'}, 'iostusdt': {'base_unit': 'iost', 'quote_unit': 'usdt', 'low': '0.0502', 'high': '0.0525', 'last': '0.0521', 'type': 'SPOT', 'open': 0.05072, 'volume': '561288.0', 'sell': '0.0525', 'buy': '0.05227', 'at': 1635282177, 'name': 'IOST/USDT'}, 'funusdt': {'base_unit': 'fun', 'quote_unit': 'usdt', 'low': '0.020242', 'high': '0.02108', 'last': '0.02057', 'type': 'SPOT', 'open': 0.020929, 'volume': '7558061.0', 'sell': '0.020699', 'buy': '0.02057', 'at': 1635282177, 'name': 'FUN/USDT'}, 'sntusdt': {'base_unit': 'snt', 'quote_unit': 'usdt', 'low': '0.0875', 'high': '0.09019', 'last': '0.088', 'type': 'SPOT', 'open': 0.09009, 'volume': '10081.0', 'sell': '0.09014', 'buy': '0.08789', 'at': 1635282177, 'name': 'SNT/USDT'}, 'thetausdt': {'base_unit': 'theta', 'quote_unit': 'usdt', 'low': '6.67701', 'high': '7.35999', 'last': '7.26', 'type': 'SPOT', 'open': 6.703, 'volume': '14149.8', 'sell': '7.27899', 'buy': '7.26', 'at': 1635282177, 'name': 'THETA/USDT'}, 'requsdt': {'base_unit': 'req', 'quote_unit': 'usdt', 'low': '0.21261', 'high': '0.22641', 'last': '0.21778', 'type': 'SPOT', 'open': 0.2264, 'volume': '103218.0', 'sell': '0.2202', 'buy': '0.21859', 'at': 1635282177, 'name': 'REQ/USDT'}, 'xlmusdt': {'base_unit': 'xlm', 'quote_unit': 'usdt', 'low': '0.37581', 'high': '0.388', 'last': '0.3835', 'type': 'SPOT', 'open': 0.38, 'volume': '112022.5', 'sell': '0.38499', 'buy': '0.3796', 'at': 1635282177, 'name': 'XLM/USDT'}, 'xtzusdt': {'base_unit': 'xtz', 'quote_unit': 'usdt', 'low': '6.578', 'high': '7.168', 'last': '6.948', 'type': 'SPOT', 'open': 6.578, 'volume': '11471.41', 'sell': '6.971', 'buy': '6.933', 'at': 1635282177, 'name': 'XTZ/USDT'}, 'bttusdt': {'base_unit': 'btt', 'quote_unit': 'usdt', 'low': '0.003632', 'high': '0.0039055', 'last': '0.0038211', 'type': 'SPOT', 'open': 0.0036573, 'volume': '40628739.0', 'sell': '0.0038417', 'buy': '0.003807', 'at': 1635282177, 'name': 'BTT/USDT'}, 'fetusdt': {'base_unit': 'fet', 'quote_unit': 'usdt', 'low': '0.74', 'high': '0.8472', 'last': '0.8234', 'type': 'SPOT', 'open': 0.7466, 'volume': '89560.0', 'sell': '0.8316', 'buy': '0.8264', 'at': 1635282177, 'name': 'FET/USDT'}, 'tfuelusdt': {'base_unit': 'tfuel', 'quote_unit': 'usdt', 'low': '0.30481', 'high': '0.33314', 'last': '0.33314', 'type': 'SPOT', 'open': 0.30481, 'volume': '70209.0', 'sell': '0.33438', 'buy': '0.33316', 'at': 1635282177, 'name': 'TFUEL/USDT'}, 'celrusdt': {'base_unit': 'celr', 'quote_unit': 'usdt', 'low': '0.143', 'high': '0.16226', 'last': '0.15293', 'type': 'SPOT', 'open': 0.145, 'volume': '1489064.0', 'sell': '0.15339', 'buy': '0.1528', 'at': 1635282177, 'name': 'CELR/USDT'}, 'maticusdt': {'base_unit': 'matic', 'quote_unit': 'usdt', 'low': '1.6252', 'high': '1.8421', 'last': '1.797', 'type': 'SPOT', 'open': 1.6252, 'volume': '672923.4', 'sell': '1.80104', 'buy': '1.795', 'at': 1635282177, 'name': 'MATIC/USDT'}, 'adausdt': {'base_unit': 'ada', 'quote_unit': 'usdt', 'low': '2.14448', 'high': '2.19596', 'last': '2.1874', 'type': 'SPOT', 'open': 2.14999, 'volume': '146006.0', 'sell': '2.18745', 'buy': '2.187', 'at': 1635282177, 'name': 'ADA/USDT'}, 'rvnusdt': {'base_unit': 'rvn', 'quote_unit': 'usdt', 'low': '0.11922', 'high': '0.12359', 'last': '0.12252', 'type': 'SPOT', 'open': 0.12116, 'volume': '168466.0', 'sell': '0.12213', 'buy': '0.12148', 'at': 1635282177, 'name': 'RVN/USDT'}, 'xmrusdt': {'base_unit': 'xmr', 'quote_unit': 'usdt', 'low': '281.7', 'high': '293.7', 'last': '291.1', 'type': 'SPOT', 'open': 285.0, 'volume': '18.034', 'sell': '293.29', 'buy': '292.01', 'at': 1635282177, 'name': 'XMR/USDT'}, 'atomusdt': {'base_unit': 'atom', 'quote_unit': 'usdt', 'low': '35.02', 'high': '42.0', 'last': '41.23', 'type': 'SPOT', 'open': 35.02, 'volume': '2451.57', 'sell': '41.46', 'buy': '41.14', 'at': 1635282177, 'name': 'ATOM/USDT'}, 'algousdt': {'base_unit': 'algo', 'quote_unit': 'usdt', 'low': '1.968', 'high': '2.1', 'last': '2.028', 'type': 'SPOT', 'open': 1.982, 'volume': '38520.8', 'sell': '2.047', 'buy': '2.036', 'at': 1635282177, 'name': 'ALGO/USDT'}, 'linkusdt': {'base_unit': 'link', 'quote_unit': 'usdt', 'low': '31.3', 'high': '33.7499', 'last': '33.2501', 'type': 'SPOT', 'open': 32.5898, 'volume': '3070.44', 'sell': '33.5599', 'buy': '33.3', 'at': 1635282177, 'name': 'LINK/USDT'}, 'qtumusdt': {'base_unit': 'qtum', 'quote_unit': 'usdt', 'low': '13.2', 'high': '13.9', 'last': '13.465', 'type': 'SPOT', 'open': 13.362, 'volume': '452.592', 'sell': '13.506', 'buy': '13.388', 'at': 1635282177, 'name': 'QTUM/USDT'}, 'etcusdt': {'base_unit': 'etc', 'quote_unit': 'usdt', 'low': '54.29', 'high': '56.1044', 'last': '55.17', 'type': 'SPOT', 'open': 55.27, 'volume': '524.22', 'sell': '55.56', 'buy': '55.17', 'at': 1635282177, 'name': 'ETC/USDT'}, 'iotausdt': {'base_unit': 'iota', 'quote_unit': 'usdt', 'low': '1.3366', 'high': '1.4246', 'last': '1.4246', 'type': 'SPOT', 'open': 1.3377, 'volume': '12791.8', 'sell': '1.4223', 'buy': '1.4122', 'at': 1635282177, 'name': 'IOTA/USDT'}, 'zecusdt': {'base_unit': 'zec', 'quote_unit': 'usdt', 'low': '161.9', 'high': '171.8581', 'last': '166.40688', 'type': 'SPOT', 'open': 170.0, 'volume': '199.687', 'sell': '167.4', 'buy': '166.4', 'at': 1635282177, 'name': 'ZEC/USDT'}, 'wavesusdt': {'base_unit': 'waves', 'quote_unit': 'usdt', 'low': '28.2', 'high': '29.5', 'last': '29.29', 'type': 'SPOT', 'open': 28.5, 'volume': '281.13', 'sell': '29.35', 'buy': '29.08', 'at': 1635282177, 'name': 'WAVES/USDT'}, 'ftmusdt': {'base_unit': 'ftm', 'quote_unit': 'usdt', 'low': '2.9435', 'high': '3.47', 'last': '3.236', 'type': 'SPOT', 'open': 2.97, 'volume': '184419.7', 'sell': '3.2222', 'buy': '3.1998', 'at': 1635282177, 'name': 'FTM/USDT'}, 'enjusdt': {'base_unit': 'enj', 'quote_unit': 'usdt', 'low': '1.86301', 'high': '2.14999', 'last': '2.10701', 'type': 'SPOT', 'open': 1.86301, 'volume': '73639.2', 'sell': '2.12799', 'buy': '2.11', 'at': 1635282177, 'name': 'ENJ/USDT'}, 'lskusdt': {'base_unit': 'lsk', 'quote_unit': 'usdt', 'low': '3.749', 'high': '4.03', 'last': '3.893', 'type': 'SPOT', 'open': 3.835, 'volume': '5139.24', 'sell': '3.868', 'buy': '3.816', 'at': 1635282177, 'name': 'LSK/USDT'}, 'steemusdt': {'base_unit': 'steem', 'quote_unit': 'usdt', 'low': '0.5659', 'high': '0.5914', 'last': '0.5906', 'type': 'SPOT', 'open': 0.5892, 'volume': '1946.84', 'sell': '0.5892', 'buy': '0.579', 'at': 1635282177, 'name': 'STEEM/USDT'}, 'xvgusdt': {'base_unit': 'xvg', 'quote_unit': 'usdt', 'low': '0.02302', 'high': '0.02419', 'last': '0.02364', 'type': 'SPOT', 'open': 0.0234, 'volume': '987875.0', 'sell': '0.02363', 'buy': '0.02322', 'at': 1635282177, 'name': 'XVG/USDT'}, 'loomusdt': {'base_unit': 'loom', 'quote_unit': 'usdt', 'low': '0.10334', 'high': '0.10699', 'last': '0.10438', 'type': 'SPOT', 'open': 0.10531, 'volume': '18831.0', 'sell': '0.10582', 'buy': '0.10427', 'at': 1635282177, 'name': 'LOOM/USDT'}, 'manausdt': {'base_unit': 'mana', 'quote_unit': 'usdt', 'low': '0.7899', 'high': '0.8604', 'last': '0.8419', 'type': 'SPOT', 'open': 0.798, 'volume': '17614.3', 'sell': '0.8419', 'buy': '0.832', 'at': 1635282177, 'name': 'MANA/USDT'}, 'repusdt': {'base_unit': 'rep', 'quote_unit': 'usdt', 'low': '23.97', 'high': '24.43', 'last': '24.19', 'type': 'SPOT', 'open': 24.18, 'volume': '9.843', 'sell': '24.45', 'buy': '24.22', 'at': 1635282177, 'name': 'REP/USDT'}, 'blzusdt': {'base_unit': 'blz', 'quote_unit': 'usdt', 'low': '0.24892', 'high': '0.26238', 'last': '0.26031', 'type': 'SPOT', 'open': 0.25313, 'volume': '61998.0', 'sell': '0.26391', 'buy': '0.26076', 'at': 1635282177, 'name': 'BLZ/USDT'}, 'nanousdt': {'base_unit': 'nano', 'quote_unit': 'usdt', 'low': '5.432', 'high': '5.9', 'last': '5.61', 'type': 'SPOT', 'open': 5.432, 'volume': '1490.26', 'sell': '5.628', 'buy': '5.61', 'at': 1635282177, 'name': 'NANO/USDT'}, 'scusdt': {'base_unit': 'sc', 'quote_unit': 'usdt', 'low': '0.01849', 'high': '0.01948', 'last': '0.01935', 'type': 'SPOT', 'open': 0.01895, 'volume': '1689426.0', 'sell': '0.01948', 'buy': '0.01933', 'at': 1635282177, 'name': 'SC/USDT'}, 'btgusdt': {'base_unit': 'btg', 'quote_unit': 'usdt', 'low': '67.0', 'high': '68.82', 'last': '68.34', 'type': 'SPOT', 'open': 68.18, 'volume': '55.43', 'sell': '68.43', 'buy': '68.34', 'at': 1635282177, 'name': 'BTG/USDT'}, 'xemusdt': {'base_unit': 'xem', 'quote_unit': 'usdt', 'low': '0.1703', 'high': '0.1799', 'last': '0.1763', 'type': 'SPOT', 'open': 0.1707, 'volume': '33551.0', 'sell': '0.1799', 'buy': '0.176', 'at': 1635282177, 'name': 'XEM/USDT'}, 'btsusdt': {'base_unit': 'bts', 'quote_unit': 'usdt', 'low': '0.04804', 'high': '0.05249', 'last': '0.0508', 'type': 'SPOT', 'open': 0.04804, 'volume': '529363.0', 'sell': '0.05134', 'buy': '0.05078', 'at': 1635282177, 'name': 'BTS/USDT'}, 'ardrusdt': {'base_unit': 'ardr', 'quote_unit': 'usdt', 'low': '0.3229', 'high': '0.34', 'last': '0.3288', 'type': 'SPOT', 'open': 0.3232, 'volume': '37168.0', 'sell': '0.3311', 'buy': '0.3284', 'at': 1635282177, 'name': 'ARDR/USDT'}, 'nasusdt': {'base_unit': 'nas', 'quote_unit': 'usdt', 'low': '0.4266', 'high': '0.4682', 'last': '0.4445', 'type': 'SPOT', 'open': 0.4545, 'volume': '148314.69', 'sell': '0.4445', 'buy': '0.4395', 'at': 1635282177, 'name': 'NAS/USDT'}, 'winusdt': {'base_unit': 'win', 'quote_unit': 'usdt', 'low': '0.000624', 'high': '0.000655', 'last': '0.0006421', 'type': 'SPOT', 'open': 0.0006307, 'volume': '299825431.0', 'sell': '0.0006464', 'buy': '0.0006422', 'at': 1635282177, 'name': 'WIN/USDT'}, 'bnbusdt': {'base_unit': 'bnb', 'quote_unit': 'usdt', 'low': '480.0', 'high': '489.0203', 'last': '486.1999', 'type': 'SPOT', 'open': 483.0001, 'volume': '241.827', 'sell': '486.1999', 'buy': '485.0', 'at': 1635282177, 'name': 'BNB/USDT'}, 'chzusdt': {'base_unit': 'chz', 'quote_unit': 'usdt', 'low': '0.324801', 'high': '0.367999', 'last': '0.350699', 'type': 'SPOT', 'open': 0.324801, 'volume': '188336.0', 'sell': '0.351699', 'buy': '0.3487', 'at': 1635282177, 'name': 'CHZ/USDT'}, 'wrxusdt': {'base_unit': 'wrx', 'quote_unit': 'usdt', 'low': '1.33433', 'high': '1.455', 'last': '1.435', 'type': 'SPOT', 'open': 1.33857, 'volume': '558557.5', 'sell': '1.43999', 'buy': '1.435', 'at': 1635282177, 'name': 'WRX/USDT'}, 'kavausdt': {'base_unit': 'kava', 'quote_unit': 'usdt', 'low': '5.73', 'high': '6.16', 'last': '6.0955', 'type': 'SPOT', 'open': 5.73, 'volume': '2810.73', 'sell': '6.124', 'buy': '6.0955', 'at': 1635282177, 'name': 'KAVA/USDT'}, 'ankrusdt': {'base_unit': 'ankr', 'quote_unit': 'usdt', 'low': '0.09238', 'high': '0.095712', 'last': '0.094215', 'type': 'SPOT', 'open': 0.092959, 'volume': '145631.0', 'sell': '0.0944', 'buy': '0.09417', 'at': 1635282177, 'name': 'ANKR/USDT'}, 'busdusdt': {'base_unit': 'busd', 'quote_unit': 'usdt', 'low': '0.9975', 'high': '1.0026', 'last': '0.9978', 'type': 'SPOT', 'open': 0.9975, 'volume': '16821.67', 'sell': '1.002', 'buy': '0.9978', 'at': 1635282177, 'name': 'BUSD/USDT'}, 'oneusdt': {'base_unit': 'one', 'quote_unit': 'usdt', 'low': '0.33161', 'high': '0.37999', 'last': '0.35033', 'type': 'SPOT', 'open': 0.3419, 'volume': '1405744.0', 'sell': '0.34927', 'buy': '0.34711', 'at': 1635282177, 'name': 'ONE/USDT'}, 'ognusdt': {'base_unit': 'ogn', 'quote_unit': 'usdt', 'low': '0.8254', 'high': '0.88', 'last': '0.88', 'type': 'SPOT', 'open': 0.8254, 'volume': '21139.52', 'sell': '0.8765', 'buy': '0.8708', 'at': 1635282177, 'name': 'OGN/USDT'}, 'hiveusdt': {'base_unit': 'hive', 'quote_unit': 'usdt', 'low': '0.7996', 'high': '0.82', 'last': '0.8089', 'type': 'SPOT', 'open': 0.82, 'volume': '19284.23', 'sell': '0.8128', 'buy': '0.8072', 'at': 1635282177, 'name': 'HIVE/USDT'}, 'fttusdt': {'base_unit': 'ftt', 'quote_unit': 'usdt', 'low': '63.011', 'high': '69.5', 'last': '64.737', 'type': 'SPOT', 'open': 64.9, 'volume': '922.598', 'sell': '64.79', 'buy': '64.605', 'at': 1635282177, 'name': 'FTT/USDT'}, 'bandusdt': {'base_unit': 'band', 'quote_unit': 'usdt', 'low': '8.985', 'high': '9.92', 'last': '9.92', 'type': 'SPOT', 'open': 9.0, 'volume': '2895.52', 'sell': '9.906', 'buy': '9.852', 'at': 1635282177, 'name': 'BAND/USDT'}, 'jstusdt': {'base_unit': 'jst', 'quote_unit': 'usdt', 'low': '0.08125', 'high': '0.08433', 'last': '0.08275', 'type': 'SPOT', 'open': 0.08138, 'volume': '42603.0', 'sell': '0.0837', 'buy': '0.08296', 'at': 1635282177, 'name': 'JST/USDT'}, 'ctsiusdt': {'base_unit': 'ctsi', 'quote_unit': 'usdt', 'low': '0.79108', 'high': '0.8867', 'last': '0.8118', 'type': 'SPOT', 'open': 0.8039, 'volume': '694792.4', 'sell': '0.81769', 'buy': '0.8122', 'at': 1635282177, 'name': 'CTSI/USDT'}, 'chrusdt': {'base_unit': 'chr', 'quote_unit': 'usdt', 'low': '0.35002', 'high': '0.3713', 'last': '0.3713', 'type': 'SPOT', 'open': 0.3541, 'volume': '143371.0', 'sell': '0.37129', 'buy': '0.3688', 'at': 1635282177, 'name': 'CHR/USDT'}, 'tomousdt': {'base_unit': 'tomo', 'quote_unit': 'usdt', 'low': '2.54', 'high': '2.672', 'last': '2.628', 'type': 'SPOT', 'open': 2.5462, 'volume': '3018.66', 'sell': '2.653', 'buy': '2.634', 'at': 1635282177, 'name': 'TOMO/USDT'}, 'stxusdt': {'base_unit': 'stx', 'quote_unit': 'usdt', 'low': '2.16', 'high': '2.22', 'last': '2.189', 'type': 'SPOT', 'open': 2.194, 'volume': '9117.21', 'sell': '2.202', 'buy': '2.183', 'at': 1635282177, 'name': 'STX/USDT'}, 'stmxusdt': {'base_unit': 'stmx', 'quote_unit': 'usdt', 'low': '0.030899', 'high': '0.03184', 'last': '0.03173', 'type': 'SPOT', 'open': 0.031462, 'volume': '447206.0', 'sell': '0.03173', 'buy': '0.0316', 'at': 1635282177, 'name': 'STMX/USDT'}, 'gxsusdt': {'base_unit': 'gxs', 'quote_unit': 'usdt', 'low': '0.7416', 'high': '0.83', 'last': '0.7712', 'type': 'SPOT', 'open': 0.748, 'volume': '671632.75', 'sell': '0.77', 'buy': '0.767', 'at': 1635282177, 'name': 'GXS/USDT'}, 'mdtusdt': {'base_unit': 'mdt', 'quote_unit': 'usdt', 'low': '0.0', 'high': '0.0', 'last': '0.0', 'type': 'SPOT', 'open': '0.0', 'volume': '0.0', 'sell': '0.0', 'buy': '0.0', 'at': 1635282177, 'name': 'MDT/USDT'}, 'ltousdt': {'base_unit': 'lto', 'quote_unit': 'usdt', 'low': '0.0', 'high': '0.0', 'last': '0.0', 'type': 'SPOT', 'open': '0.0', 'volume': '0.0', 'sell': '0.0', 'buy': '0.0', 'at': 1635282177, 'name': 'LTO/USDT'}, 'lrcusdt': {'base_unit': 'lrc', 'quote_unit': 'usdt', 'low': '0.41', 'high': '0.4414', 'last': '0.4336', 'type': 'SPOT', 'open': 0.4248, 'volume': '228392.0', 'sell': '0.4377', 'buy': '0.4336', 'at': 1635282177, 'name': 'LRC/USDT'}, 'dogeusdt': {'base_unit': 'doge', 'quote_unit': 'usdt', 'low': '0.2612529', 'high': '0.2742658', 'last': '0.266', 'type': 'SPOT', 'open': 0.2640282, 'volume': '1585607.0', 'sell': '0.2684648', 'buy': '0.2652347', 'at': 1635282177, 'name': 'DOGE/USDT'}, 'neousdt': {'base_unit': 'neo', 'quote_unit': 'usdt', 'low': '44.3', 'high': '46.0', 'last': '44.76', 'type': 'SPOT', 'open': 44.33, 'volume': '148.254', 'sell': '45.43', 'buy': '45.06', 'at': 1635282177, 'name': 'NEO/USDT'}, 'hbarusdt': {'base_unit': 'hbar', 'quote_unit': 'usdt', 'low': '0.37991', 'high': '0.415', 'last': '0.40259', 'type': 'SPOT', 'open': 0.37991, 'volume': '253211.5', 'sell': '0.40249', 'buy': '0.4001', 'at': 1635282177, 'name': 'HBAR/USDT'}, 'storjusdt': {'base_unit': 'storj', 'quote_unit': 'usdt', 'low': '1.2829', 'high': '1.3515', 'last': '1.35', 'type': 'SPOT', 'open': 1.3124, 'volume': '3344.0', 'sell': '1.35', 'buy': '1.3307', 'at': 1635282177, 'name': 'STORJ/USDT'}, 'compusdt': {'base_unit': 'comp', 'quote_unit': 'usdt', 'low': '317.5', 'high': '359.0', 'last': '350.0', 'type': 'SPOT', 'open': 317.5, 'volume': '89.253', 'sell': '350.0', 'buy': '348.3', 'at': 1635282177, 'name': 'COMP/USDT'}, 'cotiusdt': {'base_unit': 'coti', 'quote_unit': 'usdt', 'low': '0.51849', 'high': '0.5715', 'last': '0.5598', 'type': 'SPOT', 'open': 0.51849, 'volume': '930250.0', 'sell': '0.56218', 'buy': '0.56171', 'at': 1635282177, 'name': 'COTI/USDT'}, 'dgbusdt': {'base_unit': 'dgb', 'quote_unit': 'usdt', 'low': '0.04942', 'high': '0.05295', 'last': '0.0517', 'type': 'SPOT', 'open': 0.04959, 'volume': '337036.0', 'sell': '0.0522', 'buy': '0.05175', 'at': 1635282177, 'name': 'DGB/USDT'}, 'grsusdt': {'base_unit': 'grs', 'quote_unit': 'usdt', 'low': '0.9616', 'high': '0.99', 'last': '0.9887', 'type': 'SPOT', 'open': 0.9736, 'volume': '491.0', 'sell': '0.9894', 'buy': '0.9698', 'at': 1635282177, 'name': 'GRS/USDT'}, 'snxusdt': {'base_unit': 'snx', 'quote_unit': 'usdt', 'low': '9.75', 'high': '10.999', 'last': '10.795', 'type': 'SPOT', 'open': 9.792, 'volume': '4351.568', 'sell': '10.829', 'buy': '10.728', 'at': 1635282177, 'name': 'SNX/USDT'}, 'renusdt': {'base_unit': 'ren', 'quote_unit': 'usdt', 'low': '1.09502', 'high': '1.17998', 'last': '1.1564', 'type': 'SPOT', 'open': 1.1137, 'volume': '8742.9', 'sell': '1.15503', 'buy': '1.1475', 'at': 1635282177, 'name': 'REN/USDT'}, 'sxpusdt': {'base_unit': 'sxp', 'quote_unit': 'usdt', 'low': '2.276', 'high': '2.373', 'last': '2.345', 'type': 'SPOT', 'open': 2.276, 'volume': '14212.5', 'sell': '2.366', 'buy': '2.346', 'at': 1635282177, 'name': 'SXP/USDT'}, 'mkrusdt': {'base_unit': 'mkr', 'quote_unit': 'usdt', 'low': '2450.0', 'high': '2541.0', 'last': '2508.0', 'type': 'SPOT', 'open': 2451.0, 'volume': '2.69701', 'sell': '2542.0', 'buy': '2532.0', 'at': 1635282178, 'name': 'MKR/USDT'}, 'daiusdt': {'base_unit': 'dai', 'quote_unit': 'usdt', 'low': '0.0', 'high': '0.0', 'last': '0.0', 'type': 'SPOT', 'open': '0.0', 'volume': '0.0', 'sell': '0.0', 'buy': '0.0', 'at': 1635282178, 'name': 'DAI/USDT'}, 'avausdt': {'base_unit': 'ava', 'quote_unit': 'usdt', 'low': '2.96', 'high': '3.11', 'last': '3.11', 'type': 'SPOT', 'open': 2.9705, 'volume': '3912.9', 'sell': '3.0377', 'buy': '2.9984', 'at': 1635282178, 'name': 'AVA/USDT'}, 'balusdt': {'base_unit': 'bal', 'quote_unit': 'usdt', 'low': '22.17', 'high': '25.23', 'last': '25.09', 'type': 'SPOT', 'open': 22.17, 'volume': '723.91', 'sell': '25.1', 'buy': '24.81', 'at': 1635282178, 'name': 'BAL/USDT'}, 'srmusdt': {'base_unit': 'srm', 'quote_unit': 'usdt', 'low': '7.6597', 'high': '7.95', 'last': '7.95', 'type': 'SPOT', 'open': 7.75, 'volume': '2550.04', 'sell': '8.0', 'buy': '7.954', 'at': 1635282178, 'name': 'SRM/USDT'}, 'egldusdt': {'base_unit': 'egld', 'quote_unit': 'usdt', 'low': '275.47', 'high': '293.71', 'last': '280.4', 'type': 'SPOT', 'open': 293.09, 'volume': '78.588', 'sell': '281.45', 'buy': '279.483', 'at': 1635282178, 'name': 'EGLD/USDT'}, 'cosusdt': {'base_unit': 'cos', 'quote_unit': 'usdt', 'low': '0.02082', 'high': '0.02169', 'last': '0.02116', 'type': 'SPOT', 'open': 0.02105, 'volume': '381640.0', 'sell': '0.02121', 'buy': '0.02111', 'at': 1635282178, 'name': 'COS/USDT'}, 'nbsusdt': {'base_unit': 'nbs', 'quote_unit': 'usdt', 'low': '0.021534', 'high': '0.029474', 'last': '0.024799', 'type': 'SPOT', 'open': 0.023899, 'volume': '22494234.0', 'sell': '0.02473', 'buy': '0.02446', 'at': 1635282178, 'name': 'NBS/USDT'}, 'aionusdt': {'base_unit': 'aion', 'quote_unit': 'usdt', 'low': '0.1801', 'high': '0.1863', 'last': '0.1849', 'type': 'SPOT', 'open': 0.1842, 'volume': '30655.71', 'sell': '0.1848', 'buy': '0.183', 'at': 1635282178, 'name': 'AION/USDT'}, 'dotusdt': {'base_unit': 'dot', 'quote_unit': 'usdt', 'low': '43.5', 'high': '45.7061', 'last': '45.7061', 'type': 'SPOT', 'open': 44.4798, 'volume': '2466.74', 'sell': '45.7999', 'buy': '45.66', 'at': 1635282178, 'name': 'DOT/USDT'}, 'yfiusdt': {'base_unit': 'yfi', 'quote_unit': 'usdt', 'low': '34662.6', 'high': '38555.0', 'last': '37834.29', 'type': 'SPOT', 'open': 34662.6, 'volume': '0.89917', 'sell': '38189.23', 'buy': '37834.29', 'at': 1635282178, 'name': 'YFI/USDT'}, 'iotxusdt': {'base_unit': 'iotx', 'quote_unit': 'usdt', 'low': '0.066188', 'high': '0.06851', 'last': '0.068281', 'type': 'SPOT', 'open': 0.066501, 'volume': '591730.0', 'sell': '0.068737', 'buy': '0.06828', 'at': 1635282178, 'name': 'IOTX/USDT'}, 'sandusdt': {'base_unit': 'sand', 'quote_unit': 'usdt', 'low': '0.7926', 'high': '0.8699', 'last': '0.8559', 'type': 'SPOT', 'open': 0.8013, 'volume': '37599.0', 'sell': '0.861399', 'buy': '0.8549', 'at': 1635282178, 'name': 'SAND/USDT'}, 'uniusdt': {'base_unit': 'uni', 'quote_unit': 'usdt', 'low': '26.0', 'high': '28.35', 'last': '27.89', 'type': 'SPOT', 'open': 26.45, 'volume': '1371.07', 'sell': '27.89', 'buy': '27.63', 'at': 1635282178, 'name': 'UNI/USDT'}, 'datausdt': {'base_unit': 'data', 'quote_unit': 'usdt', 'low': '0.13901', 'high': '0.14613', 'last': '0.14267', 'type': 'SPOT', 'open': 0.14011, 'volume': '305177.0', 'sell': '0.14301', 'buy': '0.14267', 'at': 1635282178, 'name': 'DATA/USDT'}, 'paxgusdt': {'base_unit': 'paxg', 'quote_unit': 'usdt', 'low': '1781.0', 'high': '1823.0', 'last': '1781.0', 'type': 'SPOT', 'open': 1823.0, 'volume': '0.08937', 'sell': '1809.9', 'buy': '1784.0', 'at': 1635282178, 'name': 'PAXG/USDT'}, 'creamusdt': {'base_unit': 'cream', 'quote_unit': 'usdt', 'low': '151.0', 'high': '156.871', 'last': '153.954', 'type': 'SPOT', 'open': 156.871, 'volume': '3.864', 'sell': '156.329', 'buy': '156.1', 'at': 1635282178, 'name': 'CREAM/USDT'}, 'swrvusdt': {'base_unit': 'swrv', 'quote_unit': 'usdt', 'low': '0.0', 'high': '0.0', 'last': '0.0', 'type': 'SPOT', 'open': '0.0', 'volume': '0.0', 'sell': '0.0', 'buy': '0.0', 'at': 1635282178, 'name': 'SWRV/USDT'}, 'umausdt': {'base_unit': 'uma', 'quote_unit': 'usdt', 'low': '11.71', 'high': '12.3', 'last': '12.009', 'type': 'SPOT', 'open': 11.71, 'volume': '513.328', 'sell': '11.997', 'buy': '11.924', 'at': 1635282178, 'name': 'UMA/USDT'}, 'diausdt': {'base_unit': 'dia', 'quote_unit': 'usdt', 'low': '0.0', 'high': '0.0', 'last': '0.0', 'type': 'SPOT', 'open': '0.0', 'volume': '0.0', 'sell': '0.0', 'buy': '0.0', 'at': 1635282178, 'name': 'DIA/USDT'}, 'ksmusdt': {'base_unit': 'ksm', 'quote_unit': 'usdt', 'low': '390.0', 'high': '407.5', 'last': '391.9', 'type': 'SPOT', 'open': 394.6, 'volume': '24.662', 'sell': '395.216', 'buy': '392.2', 'at': 1635282178, 'name': 'KSM/USDT'}, 'yfiiusdt': {'base_unit': 'yfii', 'quote_unit': 'usdt', 'low': '4000.0', 'high': '4299.99', 'last': '4299.99', 'type': 'SPOT', 'open': 4001.0, 'volume': '10.100645', 'sell': '4299.99', 'buy': '4266.0', 'at': 1635282178, 'name': 'YFII/USDT'}, 'bzrxusdt': {'base_unit': 'bzrx', 'quote_unit': 'usdt', 'low': '0.339', 'high': '0.3745', 'last': '0.3672', 'type': 'SPOT', 'open': 0.3396, 'volume': '55777.63', 'sell': '0.373', 'buy': '0.367', 'at': 1635282178, 'name': 'BZRX/USDT'}, 'trbusdt': {'base_unit': 'trb', 'quote_unit': 'usdt', 'low': '55.14', 'high': '57.97', 'last': '57.77', 'type': 'SPOT', 'open': 55.35, 'volume': '164.825', 'sell': '57.79', 'buy': '57.27', 'at': 1635282178, 'name': 'TRB/USDT'}, 'adxusdt': {'base_unit': 'adx', 'quote_unit': 'usdt', 'low': '0.5355', 'high': '0.5684', 'last': '0.5442', 'type': 'SPOT', 'open': 0.5483, 'volume': '13401.0', 'sell': '0.5545', 'buy': '0.5463', 'at': 1635282178, 'name': 'ADX/USDT'}, 'aaveusdt': {'base_unit': 'aave', 'quote_unit': 'usdt', 'low': '311.6', 'high': '344.0', 'last': '342.5', 'type': 'SPOT', 'open': 311.6, 'volume': '91.633', 'sell': '343.0', 'buy': '341.9', 'at': 1635282178, 'name': 'AAVE/USDT'}, 'filusdt': {'base_unit': 'fil', 'quote_unit': 'usdt', 'low': '63.14', 'high': '66.418', 'last': '64.18', 'type': 'SPOT', 'open': 64.71, 'volume': '2486.365', 'sell': '64.32', 'buy': '63.69', 'at': 1635282178, 'name': 'FIL/USDT'}, 'crvusdt': {'base_unit': 'crv', 'quote_unit': 'usdt', 'low': '4.322', 'high': '5.27', 'last': '4.684', 'type': 'SPOT', 'open': 4.361, 'volume': '27930.752', 'sell': '4.706', 'buy': '4.654', 'at': 1635282178, 'name': 'CRV/USDT'}, 'nearusdt': {'base_unit': 'near', 'quote_unit': 'usdt', 'low': '11.793', 'high': '13.5', 'last': '12.468', 'type': 'SPOT', 'open': 12.09, 'volume': '6053.076', 'sell': '12.411', 'buy': '12.316', 'at': 1635282178, 'name': 'NEAR/USDT'}, 'hntusdt': {'base_unit': 'hnt', 'quote_unit': 'usdt', 'low': '21.09', 'high': '24.905', 'last': '24.71', 'type': 'SPOT', 'open': 21.09, 'volume': '764.6', 'sell': '24.905', 'buy': '24.7', 'at': 1635282178, 'name': 'HNT/USDT'}, 'avaxusdt': {'base_unit': 'avax', 'quote_unit': 'usdt', 'low': '66.8238', 'high': '72.69', 'last': '70.2166', 'type': 'SPOT', 'open': 67.0, 'volume': '1120.81', 'sell': '70.7034', 'buy': '70.2281', 'at': 1635282178, 'name': 'AVAX/USDT'}, 'oxtusdt': {'base_unit': 'oxt', 'quote_unit': 'usdt', 'low': '0.4434', 'high': '0.4659', 'last': '0.4478', 'type': 'SPOT', 'open': 0.4458, 'volume': '20019.21', 'sell': '0.4478', 'buy': '0.4418', 'at': 1635282178, 'name': 'OXT/USDT'}, 'dockusdt': {'base_unit': 'dock', 'quote_unit': 'usdt', 'low': '0.083421', 'high': '0.086', 'last': '0.08483', 'type': 'SPOT', 'open': 0.083591, 'volume': '253397.0', 'sell': '0.085267', 'buy': '0.084731', 'at': 1635282178, 'name': 'DOCK/USDT'}, 'duskusdt': {'base_unit': 'dusk', 'quote_unit': 'usdt', 'low': '0.1669', 'high': '0.1746', 'last': '0.1671', 'type': 'SPOT', 'open': 0.168, 'volume': '31878.65', 'sell': '0.1687', 'buy': '0.1671', 'at': 1635282178, 'name': 'DUSK/USDT'}, 'wtcusdt': {'base_unit': 'wtc', 'quote_unit': 'usdt', 'low': '1.0039', 'high': '1.1', 'last': '1.042', 'type': 'SPOT', 'open': 1.0083, 'volume': '30866.0', 'sell': '1.0479', 'buy': '1.042', 'at': 1635282178, 'name': 'WTC/USDT'}, 'perlusdt': {'base_unit': 'perl', 'quote_unit': 'usdt', 'low': '0.0', 'high': '0.0', 'last': '0.0', 'type': 'SPOT', 'open': '0.0', 'volume': '0.0', 'sell': '0.0', 'buy': '0.0', 'at': 1635282178, 'name': 'PERL/USDT'}, 'straxusdt': {'base_unit': 'strax', 'quote_unit': 'usdt', 'low': '2.092', 'high': '2.136', 'last': '2.125', 'type': 'SPOT', 'open': 2.0968, 'volume': '624.39', 'sell': '2.1326', 'buy': '2.118', 'at': 1635282178, 'name': 'STRAX/USDT'}, 'injusdt': {'base_unit': 'inj', 'quote_unit': 'usdt', 'low': '11.976', 'high': '12.595', 'last': '12.489', 'type': 'SPOT', 'open': 11.976, 'volume': '887.71', 'sell': '12.551', 'buy': '12.514', 'at': 1635282178, 'name': 'INJ/USDT'}, 'vetusdt': {'base_unit': 'vet', 'quote_unit': 'usdt', 'low': '0.1398', 'high': '0.14748', 'last': '0.146595', 'type': 'SPOT', 'open': 0.139921, 'volume': '710846.0', 'sell': '0.146595', 'buy': '0.14612', 'at': 1635282178, 'name': 'VET/USDT'}, 'mtlusdt': {'base_unit': 'mtl', 'quote_unit': 'usdt', 'low': '3.2298', 'high': '3.4098', 'last': '3.4098', 'type': 'SPOT', 'open': 3.321, 'volume': '6093.43', 'sell': '3.42', 'buy': '3.393', 'at': 1635282178, 'name': 'MTL/USDT'}, 'frontusdt': {'base_unit': 'front', 'quote_unit': 'usdt', 'low': '1.2401', 'high': '1.2863', 'last': '1.2781', 'type': 'SPOT', 'open': 1.2863, 'volume': '12232.66', 'sell': '1.2721', 'buy': '1.242', 'at': 1635282178, 'name': 'FRONT/USDT'}, 'glmusdt': {'base_unit': 'glm', 'quote_unit': 'usdt', 'low': '0.42', 'high': '0.4699', 'last': '0.4699', 'type': 'SPOT', 'open': 0.4466, 'volume': '8402.0', 'sell': '0.4699', 'buy': '0.4354', 'at': 1635282178, 'name': 'GLM/USDT'}, 'sushiusdt': {'base_unit': 'sushi', 'quote_unit': 'usdt', 'low': '10.612', 'high': '11.81', 'last': '11.547', 'type': 'SPOT', 'open': 10.612, 'volume': '4453.656', 'sell': '11.6', 'buy': '11.537', 'at': 1635282178, 'name': 'SUSHI/USDT'}, 'firousdt': {'base_unit': 'firo', 'quote_unit': 'usdt', 'low': '9.2', 'high': '9.744', 'last': '9.571', 'type': 'SPOT', 'open': 9.63, 'volume': '4355.98', 'sell': '9.54', 'buy': '9.286', 'at': 1635282178, 'name': 'FIRO/USDT'}, 'dexeusdt': {'base_unit': 'dexe', 'quote_unit': 'usdt', 'low': '13.049', 'high': '13.7', 'last': '13.241', 'type': 'SPOT', 'open': 13.47, 'volume': '885.97', 'sell': '13.242', 'buy': '13.052', 'at': 1635282178, 'name': 'DEXE/USDT'}, 'grtusdt': {'base_unit': 'grt', 'quote_unit': 'usdt', 'low': '1.0129', 'high': '1.195', 'last': '1.1103', 'type': 'SPOT', 'open': 1.0274, 'volume': '95258.2', 'sell': '1.122', 'buy': '1.1141', 'at': 1635282178, 'name': 'GRT/USDT'}, 'bntusdt': {'base_unit': 'bnt', 'quote_unit': 'usdt', 'low': '4.25', 'high': '4.315', 'last': '4.315', 'type': 'SPOT', 'open': 4.253, 'volume': '422.42', 'sell': '4.383', 'buy': '4.327', 'at': 1635282178, 'name': 'BNT/USDT'}, 'rsrusdt': {'base_unit': 'rsr', 'quote_unit': 'usdt', 'low': '0.03893', 'high': '0.04357', 'last': '0.04357', 'type': 'SPOT', 'open': 0.04006, 'volume': '812854.6', 'sell': '0.04375', 'buy': '0.04357', 'at': 1635282178, 'name': 'RSR/USDT'}, '1inchusdt': {'base_unit': '1inch', 'quote_unit': 'usdt', 'low': '3.95', 'high': '4.1779', 'last': '4.0879', 'type': 'SPOT', 'open': 4.0498, 'volume': '9893.38', 'sell': '4.0878', 'buy': '4.0392', 'at': 1635282178, 'name': '1INCH/USDT'}, 'lunausdt': {'base_unit': 'luna', 'quote_unit': 'usdt', 'low': '42.3799', 'high': '46.9629', 'last': '45.62', 'type': 'SPOT', 'open': 42.71, 'volume': '1948.5', 'sell': '46.0499', 'buy': '45.7', 'at': 1635282178, 'name': 'LUNA/USDT'}, 'uftusdt': {'base_unit': 'uft', 'quote_unit': 'usdt', 'low': '1.0337', 'high': '1.0899', 'last': '1.0829', 'type': 'SPOT', 'open': 1.0337, 'volume': '5908.74', 'sell': '1.0798', 'buy': '1.0566', 'at': 1635282178, 'name': 'UFT/USDT'}, 'pundixusdt': {'base_unit': 'pundix', 'quote_unit': 'usdt', 'low': '1.47', 'high': '1.52', 'last': '1.51', 'type': 'SPOT', 'open': 1.48, 'volume': '2913.55', 'sell': '1.52', 'buy': '1.5', 'at': 1635282178, 'name': 'PUNDIX/USDT'}, 'ckbusdt': {'base_unit': 'ckb', 'quote_unit': 'usdt', 'low': '0.020291', 'high': '0.023099', 'last': '0.0217', 'type': 'SPOT', 'open': 0.02133, 'volume': '2844396.0', 'sell': '0.02183', 'buy': '0.021501', 'at': 1635282178, 'name': 'CKB/USDT'}, 'vibusdt': {'base_unit': 'vib', 'quote_unit': 'usdt', 'low': '0.0557', 'high': '0.05811', 'last': '0.05671', 'type': 'SPOT', 'open': 0.05609, 'volume': '60296.0', 'sell': '0.0584', 'buy': '0.05671', 'at': 1635282178, 'name': 'VIB/USDT'}, 'gtousdt': {'base_unit': 'gto', 'quote_unit': 'usdt', 'low': '0.04502', 'high': '0.05055', 'last': '0.04652', 'type': 'SPOT', 'open': 0.04502, 'volume': '63799.2', 'sell': '0.04739', 'buy': '0.04733', 'at': 1635282178, 'name': 'GTO/USDT'}, 'tkousdt': {'base_unit': 'tko', 'quote_unit': 'usdt', 'low': '2.011', 'high': '2.051', 'last': '2.012', 'type': 'SPOT', 'open': 2.022, 'volume': '7443.69', 'sell': '2.0373', 'buy': '2.02', 'at': 1635282178, 'name': 'TKO/USDT'}, 'pushusdt': {'base_unit': 'push', 'quote_unit': 'usdt', 'low': '2.8163', 'high': '2.965', 'last': '2.8607', 'type': 'SPOT', 'open': 2.8163, 'volume': '7748.33', 'sell': '2.909', 'buy': '2.8607', 'at': 1635282178, 'name': 'PUSH/USDT'}, 'cvcusdt': {'base_unit': 'cvc', 'quote_unit': 'usdt', 'low': '0.4721', 'high': '0.492', 'last': '0.4873', 'type': 'SPOT', 'open': 0.47731, 'volume': '26202.8', 'sell': '0.49718', 'buy': '0.4875', 'at': 1635282178, 'name': 'CVC/USDT'}, 'cakeusdt': {'base_unit': 'cake', 'quote_unit': 'usdt', 'low': '19.689', 'high': '20.03', 'last': '19.691', 'type': 'SPOT', 'open': 19.98, 'volume': '995.046', 'sell': '19.84', 'buy': '19.691', 'at': 1635282178, 'name': 'CAKE/USDT'}, 'ezusdt': {'base_unit': 'ez', 'quote_unit': 'usdt', 'low': '5.065', 'high': '5.268', 'last': '5.202', 'type': 'SPOT', 'open': 5.101, 'volume': '1511.12', 'sell': '5.202', 'buy': '5.099', 'at': 1635282178, 'name': 'EZ/USDT'}, 'arkusdt': {'base_unit': 'ark', 'quote_unit': 'usdt', 'low': '1.603', 'high': '1.677', 'last': '1.652', 'type': 'SPOT', 'open': 1.668, 'volume': '1122.0', 'sell': '1.655', 'buy': '1.621', 'at': 1635282178, 'name': 'ARK/USDT'}, 'kmdusdt': {'base_unit': 'kmd', 'quote_unit': 'usdt', 'low': '1.04', 'high': '1.0781', 'last': '1.066', 'type': 'SPOT', 'open': 1.05, 'volume': '3083.21', 'sell': '1.066', 'buy': '1.04', 'at': 1635282178, 'name': 'KMD/USDT'}, 'solusdt': {'base_unit': 'sol', 'quote_unit': 'usdt', 'low': '203.0', 'high': '214.199', 'last': '205.77', 'type': 'SPOT', 'open': 211.798, 'volume': '2364.831', 'sell': '205.674', 'buy': '205.408', 'at': 1635282178, 'name': 'SOL/USDT'}, 'shibusdt': {'base_unit': 'shib', 'quote_unit': 'usdt', 'low': '0.00004051', 'high': '0.00004963', 'last': '0.00004697', 'type': 'SPOT', 'open': 4.203e-05, 'volume': '100626356515.0', 'sell': '0.00004717', 'buy': '0.00004684', 'at': 1635282178, 'name': 'SHIB/USDT'}, 'rlcusdt': {'base_unit': 'rlc', 'quote_unit': 'usdt', 'low': '4.1', 'high': '4.37', 'last': '4.37', 'type': 'SPOT', 'open': 4.26, 'volume': '1177.45', 'sell': '4.3839', 'buy': '4.37', 'at': 1635282178, 'name': 'RLC/USDT'}, 'reefusdt': {'base_unit': 'reef', 'quote_unit': 'usdt', 'low': '0.02995', 'high': '0.032519', 'last': '0.03159', 'type': 'SPOT', 'open': 0.03013, 'volume': '1234700.0', 'sell': '0.03161', 'buy': '0.03131', 'at': 1635282178, 'name': 'REEF/USDT'}, 'icpusdt': {'base_unit': 'icp', 'quote_unit': 'usdt', 'low': '46.85', 'high': '51.5', 'last': '48.68', 'type': 'SPOT', 'open': 46.87, 'volume': '4887.41', 'sell': '48.69', 'buy': '48.18', 'at': 1635282178, 'name': 'ICP/USDT'}, 'ontusdt': {'base_unit': 'ont', 'quote_unit': 'usdt', 'low': '0.953', 'high': '0.9935', 'last': '0.9935', 'type': 'SPOT', 'open': 0.9574, 'volume': '1211.81', 'sell': '0.9935', 'buy': '0.9846', 'at': 1635282178, 'name': 'ONT/USDT'}, 'pntusdt': {'base_unit': 'pnt', 'quote_unit': 'usdt', 'low': '1.1955', 'high': '1.2942', 'last': '1.2221', 'type': 'SPOT', 'open': 1.2909, 'volume': '21057.36', 'sell': '1.2221', 'buy': '1.2035', 'at': 1635282178, 'name': 'PNT/USDT'}, 'xvsusdt': {'base_unit': 'xvs', 'quote_unit': 'usdt', 'low': '28.691', 'high': '30.459', 'last': '29.16', 'type': 'SPOT', 'open': 30.259, 'volume': '1988.533', 'sell': '29.2', 'buy': '28.831', 'at': 1635282178, 'name': 'XVS/USDT'}, 'viteusdt': {'base_unit': 'vite', 'quote_unit': 'usdt', 'low': '0.10503', 'high': '0.11251', 'last': '0.11166', 'type': 'SPOT', 'open': 0.10734, 'volume': '98292.047', 'sell': '0.11041', 'buy': '0.1088', 'at': 1635282178, 'name': 'VITE/USDT'}, 'dcrusdt': {'base_unit': 'dcr', 'quote_unit': 'usdt', 'low': '119.2', 'high': '126.3', 'last': '122.0', 'type': 'SPOT', 'open': 125.0, 'volume': '77.1626', 'sell': '122.3', 'buy': '122.0', 'at': 1635282178, 'name': 'DCR/USDT'}, 'mdxusdt': {'base_unit': 'mdx', 'quote_unit': 'usdt', 'low': '1.145', 'high': '1.177', 'last': '1.16', 'type': 'SPOT', 'open': 1.157, 'volume': '185012.98', 'sell': '1.16', 'buy': '1.145', 'at': 1635282178, 'name': 'MDX/USDT'}, 'phausdt': {'base_unit': 'pha', 'quote_unit': 'usdt', 'low': '0.7432', 'high': '0.7774', 'last': '0.7684', 'type': 'SPOT', 'open': 0.7487, 'volume': '4613.28', 'sell': '0.7684', 'buy': '0.7444', 'at': 1635282178, 'name': 'PHA/USDT'}, 'runeusdt': {'base_unit': 'rune', 'quote_unit': 'usdt', 'low': '12.5', 'high': '14.0', 'last': '12.751', 'type': 'SPOT', 'open': 12.969, 'volume': '5695.319', 'sell': '12.793', 'buy': '12.677', 'at': 1635282178, 'name': 'RUNE/USDT'}, 'mirusdt': {'base_unit': 'mir', 'quote_unit': 'usdt', 'low': '3.005', 'high': '3.157', 'last': '3.1', 'type': 'SPOT', 'open': 3.026, 'volume': '2129.337', 'sell': '3.093', 'buy': '3.044', 'at': 1635282178, 'name': 'MIR/USDT'}, 'nknusdt': {'base_unit': 'nkn', 'quote_unit': 'usdt', 'low': '0.4311', 'high': '0.45369', 'last': '0.44478', 'type': 'SPOT', 'open': 0.4311, 'volume': '21030.1', 'sell': '0.44359', 'buy': '0.4382', 'at': 1635282178, 'name': 'NKN/USDT'}, 'dntusdt': {'base_unit': 'dnt', 'quote_unit': 'usdt', 'low': '0.17401', 'high': '0.1821', 'last': '0.17495', 'type': 'SPOT', 'open': 0.1762, 'volume': '189155.9', 'sell': '0.1762', 'buy': '0.17402', 'at': 1635282178, 'name': 'DNT/USDT'}, 'keepusdt': {'base_unit': 'keep', 'quote_unit': 'usdt', 'low': '0.7398', 'high': '0.8499', 'last': '0.7562', 'type': 'SPOT', 'open': 0.7948, 'volume': '203141.0', 'sell': '0.7562', 'buy': '0.7502', 'at': 1635282178, 'name': 'KEEP/USDT'}, 'axsusdt': {'base_unit': 'axs', 'quote_unit': 'usdt', 'low': '130.05', 'high': '138.85', 'last': '133.29', 'type': 'SPOT', 'open': 131.38, 'volume': '530.55', 'sell': '134.07', 'buy': '133.2899', 'at': 1635282178, 'name': 'AXS/USDT'}, 'alphausdt': {'base_unit': 'alpha', 'quote_unit': 'usdt', 'low': '1.0395', 'high': '1.134', 'last': '1.134', 'type': 'SPOT', 'open': 1.0395, 'volume': '6321.48', 'sell': '1.134', 'buy': '1.1287', 'at': 1635282178, 'name': 'ALPHA/USDT'}, 'aliceusdt': {'base_unit': 'alice', 'quote_unit': 'usdt', 'low': '12.0104', 'high': '12.8798', 'last': '12.58', 'type': 'SPOT', 'open': 12.1899, 'volume': '1534.19', 'sell': '12.7098', 'buy': '12.5901', 'at': 1635282178, 'name': 'ALICE/USDT'}, 'klayusdt': {'base_unit': 'klay', 'quote_unit': 'usdt', 'low': '1.601', 'high': '1.66', 'last': '1.66', 'type': 'SPOT', 'open': 1.601, 'volume': '1986.0', 'sell': '1.66', 'buy': '1.644', 'at': 1635282178, 'name': 'KLAY/USDT'}, 'xecusdt': {'base_unit': 'xec', 'quote_unit': 'usdt', 'low': '0.00019', 'high': '0.000195', 'last': '0.000194', 'type': 'SPOT', 'open': 0.00019198, 'volume': '1254395323.0', 'sell': '0.000194', 'buy': '0.00019305', 'at': 1635282178, 'name': 'XEC/USDT'}, 'perpusdt': {'base_unit': 'perp', 'quote_unit': 'usdt', 'low': '16.25', 'high': '17.5', 'last': '17.5', 'type': 'SPOT', 'open': 16.39, 'volume': '379.732', 'sell': '17.749', 'buy': '17.5', 'at': 1635282178, 'name': 'PERP/USDT'}, 'qntusdt': {'base_unit': 'qnt', 'quote_unit': 'usdt', 'low': '304.0', 'high': '325.0', 'last': '325.0', 'type': 'SPOT', 'open': 304.0, 'volume': '43.7', 'sell': '325.0', 'buy': '323.4', 'at': 1635282178, 'name': 'QNT/USDT'}, 'flowusdt': {'base_unit': 'flow', 'quote_unit': 'usdt', 'low': '13.18', 'high': '13.62', 'last': '13.24', 'type': 'SPOT', 'open': 13.43, 'volume': '926.71', 'sell': '13.41', 'buy': '13.24', 'at': 1635282178, 'name': 'FLOW/USDT'}, 'vgxusdt': {'base_unit': 'vgx', 'quote_unit': 'usdt', 'low': '2.129', 'high': '2.274', 'last': '2.15', 'type': 'SPOT', 'open': 2.259, 'volume': '1995.0', 'sell': '2.173', 'buy': '2.14', 'at': 1635282178, 'name': 'VGX/USDT'}, 'arusdt': {'base_unit': 'ar', 'quote_unit': 'usdt', 'low': '52.0', 'high': '55.0', 'last': '55.0', 'type': 'SPOT', 'open': 52.34, 'volume': '621.87', 'sell': '55.02', 'buy': '54.41', 'at': 1635282178, 'name': 'AR/USDT'}, 'rayusdt': {'base_unit': 'ray', 'quote_unit': 'usdt', 'low': '10.356', 'high': '10.907', 'last': '10.644', 'type': 'SPOT', 'open': 10.67, 'volume': '1130.0', 'sell': '10.696', 'buy': '10.571', 'at': 1635282178, 'name': 'RAY/USDT'}, 'dodousdt': {'base_unit': 'dodo', 'quote_unit': 'usdt', 'low': '1.546', 'high': '1.64', 'last': '1.64', 'type': 'SPOT', 'open': 1.612, 'volume': '4681.415', 'sell': '1.648', 'buy': '1.622', 'at': 1635282178, 'name': 'DODO/USDT'}, 'minausdt': {'base_unit': 'mina', 'quote_unit': 'usdt', 'low': '4.69', 'high': '5.3', 'last': '5.164', 'type': 'SPOT', 'open': 4.778, 'volume': '3111.7', 'sell': '5.215', 'buy': '5.179', 'at': 1635282178, 'name': 'MINA/USDT'}, 'clvusdt': {'base_unit': 'clv', 'quote_unit': 'usdt', 'low': '1.181', 'high': '1.27', 'last': '1.256', 'type': 'SPOT', 'open': 1.183, 'volume': '52759.8', 'sell': '1.257', 'buy': '1.238', 'at': 1635282178, 'name': 'CLV/USDT'}, 'bakeusdt': {'base_unit': 'bake', 'quote_unit': 'usdt', 'low': '2.016', 'high': '2.135', 'last': '2.1', 'type': 'SPOT', 'open': 2.077, 'volume': '4098.9', 'sell': '2.101', 'buy': '2.1', 'at': 1635282178, 'name': 'BAKE/USDT'}, 'alpacausdt': {'base_unit': 'alpaca', 'quote_unit': 'usdt', 'low': '0.0', 'high': '0.0', 'last': '0.0', 'type': 'SPOT', 'open': '0.0', 'volume': '0.0', 'sell': '0.0', 'buy': '0.0', 'at': 1635282178, 'name': 'ALPACA/USDT'}, 'usdpusdt': {'base_unit': 'usdp', 'quote_unit': 'usdt', 'low': '0.995', 'high': '1.004', 'last': '0.999', 'type': 'SPOT', 'open': 1.0, 'volume': '101746.46', 'sell': '1.003', 'buy': '0.996', 'at': 1635282178, 'name': 'USDP/USDT'}, 'gnousdt': {'base_unit': 'gno', 'quote_unit': 'usdt', 'low': '393.1', 'high': '410.5', 'last': '410.5', 'type': 'SPOT', 'open': 393.1, 'volume': '1.009', 'sell': '417.9', 'buy': '411.8', 'at': 1635282178, 'name': 'GNO/USDT'}, 'tlmusdt': {'base_unit': 'tlm', 'quote_unit': 'usdt', 'low': '0.1855', 'high': '0.2155', 'last': '0.2097', 'type': 'SPOT', 'open': 0.1928, 'volume': '410939.0', 'sell': '0.2107', 'buy': '0.2097', 'at': 1635282178, 'name': 'TLM/USDT'}, 'audiousdt': {'base_unit': 'audio', 'quote_unit': 'usdt', 'low': '2.235', 'high': '2.42', 'last': '2.294', 'type': 'SPOT', 'open': 2.37, 'volume': '6107.6', 'sell': '2.312', 'buy': '2.29', 'at': 1635282178, 'name': 'AUDIO/USDT'}, 'sklusdt': {'base_unit': 'skl', 'quote_unit': 'usdt', 'low': '0.3346', 'high': '0.3488', 'last': '0.3439', 'type': 'SPOT', 'open': 0.3396, 'volume': '40622.0', 'sell': '0.3438', 'buy': '0.3407', 'at': 1635282178, 'name': 'SKL/USDT'}, 'mboxusdt': {'base_unit': 'mbox', 'quote_unit': 'usdt', 'low': '4.1', 'high': '4.242', 'last': '4.186', 'type': 'SPOT', 'open': 4.215, 'volume': '2042.7', 'sell': '4.218', 'buy': '4.17', 'at': 1635282178, 'name': 'MBOX/USDT'}, 'degousdt': {'base_unit': 'dego', 'quote_unit': 'usdt', 'low': '8.36', 'high': '8.65', 'last': '8.43', 'type': 'SPOT', 'open': 8.46, 'volume': '855.96', 'sell': '8.5', 'buy': '8.42', 'at': 1635282178, 'name': 'DEGO/USDT'}, 'galausdt': {'base_unit': 'gala', 'quote_unit': 'usdt', 'low': '0.08256', 'high': '0.091', 'last': '0.09018', 'type': 'SPOT', 'open': 0.08464, 'volume': '349168.0', 'sell': '0.091', 'buy': '0.08978', 'at': 1635282178, 'name': 'GALA/USDT'}, 'maskusdt': {'base_unit': 'mask', 'quote_unit': 'usdt', 'low': '9.431', 'high': '9.82', 'last': '9.431', 'type': 'SPOT', 'open': 9.437, 'volume': '665.7', 'sell': '9.799', 'buy': '9.431', 'at': 1635282178, 'name': 'MASK/USDT'}, 'mftusdt': {'base_unit': 'mft', 'quote_unit': 'usdt', 'low': '0.013', 'high': '0.013339', 'last': '0.013136', 'type': 'SPOT', 'open': 0.013189, 'volume': '681101.0', 'sell': '0.013292', 'buy': '0.013123', 'at': 1635282178, 'name': 'MFT/USDT'}, 'pondusdt': {'base_unit': 'pond', 'quote_unit': 'usdt', 'low': '0.0', 'high': '0.0', 'last': '0.0', 'type': 'SPOT', 'open': '0.0', 'volume': '0.0', 'sell': '0.0', 'buy': '0.0', 'at': 1635282178, 'name': 'POND/USDT'}, 'ilvusdt': {'base_unit': 'ilv', 'quote_unit': 'usdt', 'low': '846.0', 'high': '873.4', 'last': '861.3', 'type': 'SPOT', 'open': 849.0, 'volume': '2.249', 'sell': '886.9', 'buy': '875.6', 'at': 1635282178, 'name': 'ILV/USDT'}, 'mlnusdt': {'base_unit': 'mln', 'quote_unit': 'usdt', 'low': '127.8', 'high': '141.3', 'last': '139.2', 'type': 'SPOT', 'open': 139.5, 'volume': '33.024', 'sell': '139.1', 'buy': '132.1', 'at': 1635282178, 'name': 'MLN/USDT'}, 'dydxusdt': {'base_unit': 'dydx', 'quote_unit': 'usdt', 'low': '18.01', 'high': '19.3', 'last': '18.533', 'type': 'SPOT', 'open': 19.1, 'volume': '1687.85', 'sell': '18.542', 'buy': '18.311', 'at': 1635282178, 'name': 'DYDX/USDT'}, 'cfxusdt': {'base_unit': 'cfx', 'quote_unit': 'usdt', 'low': '0.3319', 'high': '0.3509', 'last': '0.3428', 'type': 'SPOT', 'open': 0.3357, 'volume': '21767.0', 'sell': '0.3424', 'buy': '0.3401', 'at': 1635282178, 'name': 'CFX/USDT'}, 'stptusdt': {'base_unit': 'stpt', 'quote_unit': 'usdt', 'low': '0.14622', 'high': '0.15083', 'last': '0.14915', 'type': 'SPOT', 'open': 0.15055, 'volume': '48003.0', 'sell': '0.15012', 'buy': '0.14893', 'at': 1635282178, 'name': 'STPT/USDT'}, 'radusdt': {'base_unit': 'rad', 'quote_unit': 'usdt', 'low': '11.48', 'high': '11.803', 'last': '11.583', 'type': 'SPOT', 'open': 11.785, 'volume': '435.7', 'sell': '11.572', 'buy': '11.48', 'at': 1635282178, 'name': 'RAD/USDT'}, 'burgerusdt': {'base_unit': 'burger', 'quote_unit': 'usdt', 'low': '4.123', 'high': '4.24', 'last': '4.133', 'type': 'SPOT', 'open': 4.148, 'volume': '569.4', 'sell': '4.192', 'buy': '4.146', 'at': 1635282178, 'name': 'BURGER/USDT'}, 'bcdusdt': {'base_unit': 'bcd', 'quote_unit': 'usdt', 'low': '2.0774', 'high': '2.239', 'last': '2.1848', 'type': 'SPOT', 'open': 2.2389, 'volume': '10114.3', 'sell': '2.1847', 'buy': '2.1192', 'at': 1635282178, 'name': 'BCD/USDT'}, 'roseusdt': {'base_unit': 'rose', 'quote_unit': 'usdt', 'low': '0.18414', 'high': '0.19385', 'last': '0.18726', 'type': 'SPOT', 'open': 0.18416, 'volume': '47080.1', 'sell': '0.19028', 'buy': '0.18726', 'at': 1635282178, 'name': 'ROSE/USDT'}, 'scrtusdt': {'base_unit': 'scrt', 'quote_unit': 'usdt', 'low': '7.406', 'high': '9.8', 'last': '9.291', 'type': 'SPOT', 'open': 7.499, 'volume': '14853.3', 'sell': '9.35', 'buy': '9.191', 'at': 1635282178, 'name': 'SCRT/USDT'}, 'sysusdt': {'base_unit': 'sys', 'quote_unit': 'usdt', 'low': '0.3301', 'high': '0.4', 'last': '0.3733', 'type': 'SPOT', 'open': '0.3733', 'volume': '57591.0', 'sell': '0.3724', 'buy': '0.3694', 'at': 1635282178, 'name': 'SYS/USDT'}, 'agldusdt': {'base_unit': 'agld', 'quote_unit': 'usdt', 'low': '0.0', 'high': '0.0', 'last': '0.0', 'type': 'SPOT', 'open': '0.0', 'volume': '0.0', 'sell': '0.0', 'buy': '0.0', 'at': 1635282178, 'name': 'AGLD/USDT'}, 'ethwrx': {'base_unit': 'eth', 'quote_unit': 'wrx', 'low': '2905.0', 'high': '3155.0', 'last': '2970.0', 'type': 'SPOT', 'open': 3138.0, 'volume': '34.0646', 'sell': '2972.0', 'buy': '2955.0', 'at': 1635282178, 'name': 'ETH/WRX'}, 'xrpwrx': {'base_unit': 'xrp', 'quote_unit': 'wrx', 'low': '0.77', 'high': '0.837', 'last': '0.8', 'type': 'SPOT', 'open': 0.811, 'volume': '35788.7', 'sell': '0.8', 'buy': '0.795', 'at': 1635282178, 'name': 'XRP/WRX'}, 'yfiwrx': {'base_unit': 'yfi', 'quote_unit': 'wrx', 'low': '25676.0', 'high': '27063.0', 'last': '25812.0', 'type': 'SPOT', 'open': 26070.0, 'volume': '0.069875', 'sell': '26608.0', 'buy': '26214.0', 'at': 1635282178, 'name': 'YFI/WRX'}, 'bnbwrx': {'base_unit': 'bnb', 'quote_unit': 'wrx', 'low': '334.09', 'high': '363.56', 'last': '341.8', 'type': 'SPOT', 'open': 360.0, 'volume': '49.235', 'sell': '340.17', 'buy': '335.75', 'at': 1635282178, 'name': 'BNB/WRX'}, 'trxwrx': {'base_unit': 'trx', 'quote_unit': 'wrx', 'low': '0.0706', 'high': '0.0781', 'last': '0.0712', 'type': 'SPOT', 'open': 0.0742, 'volume': '2783032.0', 'sell': '0.0712', 'buy': '0.071', 'at': 1635282178, 'name': 'TRX/WRX'}, 'eoswrx': {'base_unit': 'eos', 'quote_unit': 'wrx', 'low': '3.32', 'high': '3.63', 'last': '3.32', 'type': 'SPOT', 'open': 3.59, 'volume': '380.78', 'sell': '3.38', 'buy': '3.33', 'at': 1635282178, 'name': 'EOS/WRX'}, 'ltcwrx': {'base_unit': 'ltc', 'quote_unit': 'wrx', 'low': '134.0', 'high': '146.7', 'last': '135.5', 'type': 'SPOT', 'open': 145.0, 'volume': '38.77', 'sell': '137.2', 'buy': '135.3', 'at': 1635282178, 'name': 'LTC/WRX'}, 'linkwrx': {'base_unit': 'link', 'quote_unit': 'wrx', 'low': '22.4', 'high': '24.48', 'last': '23.22', 'type': 'SPOT', 'open': 24.48, 'volume': '239.29', 'sell': '23.41', 'buy': '23.22', 'at': 1635282178, 'name': 'LINK/WRX'}, 'enjwrx': {'base_unit': 'enj', 'quote_unit': 'wrx', 'low': '1.392', 'high': '1.525', 'last': '1.449', 'type': 'SPOT', 'open': 1.392, 'volume': '4545.8', 'sell': '1.485', 'buy': '1.464', 'at': 1635282178, 'name': 'ENJ/WRX'}, 'dogewrx': {'base_unit': 'doge', 'quote_unit': 'wrx', 'low': '0.18401', 'high': '0.19951', 'last': '0.18649', 'type': 'SPOT', 'open': 0.19951, 'volume': '430284.0', 'sell': '0.1855', 'buy': '0.18457', 'at': 1635282178, 'name': 'DOGE/WRX'}, 'maticwrx': {'base_unit': 'matic', 'quote_unit': 'wrx', 'low': '1.2166', 'high': '1.324', 'last': '1.2654', 'type': 'SPOT', 'open': 1.2166, 'volume': '162956.0', 'sell': '1.2624', 'buy': '1.2466', 'at': 1635282178, 'name': 'MATIC/WRX'}, 'adawrx': {'base_unit': 'ada', 'quote_unit': 'wrx', 'low': '1.4943', 'high': '1.6299', 'last': '1.5308', 'type': 'SPOT', 'open': 1.6031, 'volume': '21896.6', 'sell': '1.5307', 'buy': '1.5171', 'at': 1635282178, 'name': 'ADA/WRX'}, 'batwrx': {'base_unit': 'bat', 'quote_unit': 'wrx', 'low': '0.5', 'high': '0.525', 'last': '0.514', 'type': 'SPOT', 'open': 0.523, 'volume': '3367.84', 'sell': '0.513', 'buy': '0.503', 'at': 1635282178, 'name': 'BAT/WRX'}, 'shibwrx': {'base_unit': 'shib', 'quote_unit': 'wrx', 'low': '0.00002982', 'high': '0.00003476', 'last': '0.00003264', 'type': 'SPOT', 'open': 3.14e-05, 'volume': '13159549744.0', 'sell': '0.00003264', 'buy': '0.00003255', 'at': 1635282178, 'name': 'SHIB/WRX'}, '1inchwrx': {'base_unit': '1inch', 'quote_unit': 'wrx', 'low': '2.838', 'high': '3.08', 'last': '2.839', 'type': 'SPOT', 'open': 3.065, 'volume': '1169.72', 'sell': '2.839', 'buy': '2.8', 'at': 1635282178, 'name': '1INCH/WRX'}, 'dockwrx': {'base_unit': 'dock', 'quote_unit': 'wrx', 'low': '0.05', 'high': '0.07', 'last': '0.06', 'type': 'SPOT', 'open': 0.07, 'volume': '278570.0', 'sell': '0.06', 'buy': '0.05', 'at': 1635282178, 'name': 'DOCK/WRX'}, 'runewrx': {'base_unit': 'rune', 'quote_unit': 'wrx', 'low': '8.462', 'high': '10.744', 'last': '8.47', 'type': 'SPOT', 'open': 9.768, 'volume': '1448.046', 'sell': '9.347', 'buy': '8.463', 'at': 1635282178, 'name': 'RUNE/WRX'}, 'chrwrx': {'base_unit': 'chr', 'quote_unit': 'wrx', 'low': '0.2506', 'high': '0.2724', 'last': '0.252', 'type': 'SPOT', 'open': 0.2675, 'volume': '19489.0', 'sell': '0.26', 'buy': '0.252', 'at': 1635282178, 'name': 'CHR/WRX'}, 'yfiiwrx': {'base_unit': 'yfii', 'quote_unit': 'wrx', 'low': '2948.64', 'high': '3100.0', 'last': '3010.0', 'type': 'SPOT', 'open': 3064.99, 'volume': '0.368542', 'sell': '3090.0', 'buy': '2952.0', 'at': 1635282178, 'name': 'YFII/WRX'}, 'lunawrx': {'base_unit': 'luna', 'quote_unit': 'wrx', 'low': '30.501', 'high': '33.1', 'last': '31.208', 'type': 'SPOT', 'open': 32.09, 'volume': '224.88', 'sell': '32.996', 'buy': '31.217', 'at': 1635282178, 'name': 'LUNA/WRX'}}\n"
     ]
    }
   ],
   "source": [
    "data = response.json()\n",
    "print(data)"
   ]
  },
  {
   "cell_type": "markdown",
   "metadata": {},
   "source": [
    "<b>base_unit: </b> ticker code of base market <br>\n",
    "<b>quote_unit: </b> ticker code of quote asset <br>\n",
    "<b>low:</b> 24 hrs lowest price of base asset <br>\n",
    "<b>high:</b> 24 hrs highest price of base asset <br>\n",
    "<b>last:</b> Last traded price in current market <br>\n",
    "<b>open:</b> Market Open price 24hrs ago <br>\n",
    "<b>volume:</b> Last 24hrs traded volume <br>\n",
    "<b>sell:</b> Top ask order price <br>\n",
    "<b>buy:</b> Top bid order price <br>\n",
    "<b>name:</b> Display text of market <br>\n",
    "<b>at:</b> Timestamp when ticker information is fetched <br>"
   ]
  },
  {
   "cell_type": "markdown",
   "metadata": {},
   "source": [
    "### Tasks to perform "
   ]
  },
  {
   "cell_type": "markdown",
   "metadata": {},
   "source": [
    "1) predict low price <br>\n",
    "2) predict high price <br>"
   ]
  },
  {
   "cell_type": "markdown",
   "metadata": {},
   "source": [
    "#### Data Ingestion "
   ]
  },
  {
   "cell_type": "code",
   "execution_count": 56,
   "metadata": {},
   "outputs": [
    {
     "data": {
      "text/html": [
       "<div>\n",
       "<style scoped>\n",
       "    .dataframe tbody tr th:only-of-type {\n",
       "        vertical-align: middle;\n",
       "    }\n",
       "\n",
       "    .dataframe tbody tr th {\n",
       "        vertical-align: top;\n",
       "    }\n",
       "\n",
       "    .dataframe thead th {\n",
       "        text-align: right;\n",
       "    }\n",
       "</style>\n",
       "<table border=\"1\" class=\"dataframe\">\n",
       "  <thead>\n",
       "    <tr style=\"text-align: right;\">\n",
       "      <th></th>\n",
       "      <th>btcinr</th>\n",
       "      <th>xrpinr</th>\n",
       "      <th>ethinr</th>\n",
       "      <th>trxinr</th>\n",
       "      <th>eosinr</th>\n",
       "      <th>zilinr</th>\n",
       "      <th>batinr</th>\n",
       "      <th>zrxinr</th>\n",
       "      <th>omginr</th>\n",
       "      <th>polyinr</th>\n",
       "      <th>...</th>\n",
       "      <th>maticwrx</th>\n",
       "      <th>adawrx</th>\n",
       "      <th>batwrx</th>\n",
       "      <th>shibwrx</th>\n",
       "      <th>1inchwrx</th>\n",
       "      <th>dockwrx</th>\n",
       "      <th>runewrx</th>\n",
       "      <th>chrwrx</th>\n",
       "      <th>yfiiwrx</th>\n",
       "      <th>lunawrx</th>\n",
       "    </tr>\n",
       "  </thead>\n",
       "  <tbody>\n",
       "    <tr>\n",
       "      <th>base_unit</th>\n",
       "      <td>btc</td>\n",
       "      <td>xrp</td>\n",
       "      <td>eth</td>\n",
       "      <td>trx</td>\n",
       "      <td>eos</td>\n",
       "      <td>zil</td>\n",
       "      <td>bat</td>\n",
       "      <td>zrx</td>\n",
       "      <td>omg</td>\n",
       "      <td>poly</td>\n",
       "      <td>...</td>\n",
       "      <td>matic</td>\n",
       "      <td>ada</td>\n",
       "      <td>bat</td>\n",
       "      <td>shib</td>\n",
       "      <td>1inch</td>\n",
       "      <td>dock</td>\n",
       "      <td>rune</td>\n",
       "      <td>chr</td>\n",
       "      <td>yfii</td>\n",
       "      <td>luna</td>\n",
       "    </tr>\n",
       "    <tr>\n",
       "      <th>quote_unit</th>\n",
       "      <td>inr</td>\n",
       "      <td>inr</td>\n",
       "      <td>inr</td>\n",
       "      <td>inr</td>\n",
       "      <td>inr</td>\n",
       "      <td>inr</td>\n",
       "      <td>inr</td>\n",
       "      <td>inr</td>\n",
       "      <td>inr</td>\n",
       "      <td>inr</td>\n",
       "      <td>...</td>\n",
       "      <td>wrx</td>\n",
       "      <td>wrx</td>\n",
       "      <td>wrx</td>\n",
       "      <td>wrx</td>\n",
       "      <td>wrx</td>\n",
       "      <td>wrx</td>\n",
       "      <td>wrx</td>\n",
       "      <td>wrx</td>\n",
       "      <td>wrx</td>\n",
       "      <td>wrx</td>\n",
       "    </tr>\n",
       "    <tr>\n",
       "      <th>low</th>\n",
       "      <td>4797502.0</td>\n",
       "      <td>84.56</td>\n",
       "      <td>321882.8</td>\n",
       "      <td>7.76</td>\n",
       "      <td>370.0</td>\n",
       "      <td>8.38</td>\n",
       "      <td>54.001</td>\n",
       "      <td>77.79</td>\n",
       "      <td>1102.1</td>\n",
       "      <td>54.4</td>\n",
       "      <td>...</td>\n",
       "      <td>1.2166</td>\n",
       "      <td>1.4943</td>\n",
       "      <td>0.5</td>\n",
       "      <td>0.00002982</td>\n",
       "      <td>2.838</td>\n",
       "      <td>0.05</td>\n",
       "      <td>8.462</td>\n",
       "      <td>0.2506</td>\n",
       "      <td>2948.64</td>\n",
       "      <td>30.501</td>\n",
       "    </tr>\n",
       "    <tr>\n",
       "      <th>high</th>\n",
       "      <td>4900000.0</td>\n",
       "      <td>89.6888</td>\n",
       "      <td>332530.2</td>\n",
       "      <td>8.1973</td>\n",
       "      <td>382.99</td>\n",
       "      <td>8.82</td>\n",
       "      <td>57.168</td>\n",
       "      <td>85.71</td>\n",
       "      <td>1138.991</td>\n",
       "      <td>56.0</td>\n",
       "      <td>...</td>\n",
       "      <td>1.324</td>\n",
       "      <td>1.6299</td>\n",
       "      <td>0.525</td>\n",
       "      <td>0.00003476</td>\n",
       "      <td>3.08</td>\n",
       "      <td>0.07</td>\n",
       "      <td>10.744</td>\n",
       "      <td>0.2724</td>\n",
       "      <td>3100.0</td>\n",
       "      <td>33.1</td>\n",
       "    </tr>\n",
       "    <tr>\n",
       "      <th>last</th>\n",
       "      <td>4810300.0</td>\n",
       "      <td>89.1112</td>\n",
       "      <td>330758.0</td>\n",
       "      <td>7.96</td>\n",
       "      <td>373.8</td>\n",
       "      <td>8.53</td>\n",
       "      <td>56.051</td>\n",
       "      <td>84.01</td>\n",
       "      <td>1118.998</td>\n",
       "      <td>55.201</td>\n",
       "      <td>...</td>\n",
       "      <td>1.2654</td>\n",
       "      <td>1.5308</td>\n",
       "      <td>0.514</td>\n",
       "      <td>0.00003264</td>\n",
       "      <td>2.839</td>\n",
       "      <td>0.06</td>\n",
       "      <td>8.47</td>\n",
       "      <td>0.252</td>\n",
       "      <td>3010.0</td>\n",
       "      <td>31.208</td>\n",
       "    </tr>\n",
       "    <tr>\n",
       "      <th>type</th>\n",
       "      <td>SPOT</td>\n",
       "      <td>SPOT</td>\n",
       "      <td>SPOT</td>\n",
       "      <td>SPOT</td>\n",
       "      <td>SPOT</td>\n",
       "      <td>SPOT</td>\n",
       "      <td>SPOT</td>\n",
       "      <td>SPOT</td>\n",
       "      <td>SPOT</td>\n",
       "      <td>SPOT</td>\n",
       "      <td>...</td>\n",
       "      <td>SPOT</td>\n",
       "      <td>SPOT</td>\n",
       "      <td>SPOT</td>\n",
       "      <td>SPOT</td>\n",
       "      <td>SPOT</td>\n",
       "      <td>SPOT</td>\n",
       "      <td>SPOT</td>\n",
       "      <td>SPOT</td>\n",
       "      <td>SPOT</td>\n",
       "      <td>SPOT</td>\n",
       "    </tr>\n",
       "    <tr>\n",
       "      <th>open</th>\n",
       "      <td>4.86e+06</td>\n",
       "      <td>84.7014</td>\n",
       "      <td>324980</td>\n",
       "      <td>7.7878</td>\n",
       "      <td>371.24</td>\n",
       "      <td>8.72</td>\n",
       "      <td>54.396</td>\n",
       "      <td>78.36</td>\n",
       "      <td>1110.76</td>\n",
       "      <td>55.197</td>\n",
       "      <td>...</td>\n",
       "      <td>1.2166</td>\n",
       "      <td>1.6031</td>\n",
       "      <td>0.523</td>\n",
       "      <td>3.14e-05</td>\n",
       "      <td>3.065</td>\n",
       "      <td>0.07</td>\n",
       "      <td>9.768</td>\n",
       "      <td>0.2675</td>\n",
       "      <td>3064.99</td>\n",
       "      <td>32.09</td>\n",
       "    </tr>\n",
       "    <tr>\n",
       "      <th>volume</th>\n",
       "      <td>283.27228</td>\n",
       "      <td>1404012.0</td>\n",
       "      <td>548.8762</td>\n",
       "      <td>24662148.0</td>\n",
       "      <td>21140.22</td>\n",
       "      <td>2464979.0</td>\n",
       "      <td>162834.59</td>\n",
       "      <td>102656.0</td>\n",
       "      <td>4958.66</td>\n",
       "      <td>873305.0</td>\n",
       "      <td>...</td>\n",
       "      <td>162956.0</td>\n",
       "      <td>21896.6</td>\n",
       "      <td>3367.84</td>\n",
       "      <td>13159549744.0</td>\n",
       "      <td>1169.72</td>\n",
       "      <td>278570.0</td>\n",
       "      <td>1448.046</td>\n",
       "      <td>19489.0</td>\n",
       "      <td>0.368542</td>\n",
       "      <td>224.88</td>\n",
       "    </tr>\n",
       "    <tr>\n",
       "      <th>sell</th>\n",
       "      <td>4818811.0</td>\n",
       "      <td>89.3</td>\n",
       "      <td>330758.0</td>\n",
       "      <td>7.9699</td>\n",
       "      <td>374.39</td>\n",
       "      <td>8.54</td>\n",
       "      <td>56.694</td>\n",
       "      <td>84.69</td>\n",
       "      <td>1118.998</td>\n",
       "      <td>55.201</td>\n",
       "      <td>...</td>\n",
       "      <td>1.2624</td>\n",
       "      <td>1.5307</td>\n",
       "      <td>0.513</td>\n",
       "      <td>0.00003264</td>\n",
       "      <td>2.839</td>\n",
       "      <td>0.06</td>\n",
       "      <td>9.347</td>\n",
       "      <td>0.26</td>\n",
       "      <td>3090.0</td>\n",
       "      <td>32.996</td>\n",
       "    </tr>\n",
       "    <tr>\n",
       "      <th>buy</th>\n",
       "      <td>4810300.0</td>\n",
       "      <td>89.011</td>\n",
       "      <td>330101.1</td>\n",
       "      <td>7.96</td>\n",
       "      <td>373.0</td>\n",
       "      <td>8.5</td>\n",
       "      <td>56.051</td>\n",
       "      <td>84.02</td>\n",
       "      <td>1110.002</td>\n",
       "      <td>55.065</td>\n",
       "      <td>...</td>\n",
       "      <td>1.2466</td>\n",
       "      <td>1.5171</td>\n",
       "      <td>0.503</td>\n",
       "      <td>0.00003255</td>\n",
       "      <td>2.8</td>\n",
       "      <td>0.05</td>\n",
       "      <td>8.463</td>\n",
       "      <td>0.252</td>\n",
       "      <td>2952.0</td>\n",
       "      <td>31.217</td>\n",
       "    </tr>\n",
       "    <tr>\n",
       "      <th>at</th>\n",
       "      <td>1635282176</td>\n",
       "      <td>1635282176</td>\n",
       "      <td>1635282176</td>\n",
       "      <td>1635282176</td>\n",
       "      <td>1635282176</td>\n",
       "      <td>1635282176</td>\n",
       "      <td>1635282176</td>\n",
       "      <td>1635282176</td>\n",
       "      <td>1635282176</td>\n",
       "      <td>1635282176</td>\n",
       "      <td>...</td>\n",
       "      <td>1635282178</td>\n",
       "      <td>1635282178</td>\n",
       "      <td>1635282178</td>\n",
       "      <td>1635282178</td>\n",
       "      <td>1635282178</td>\n",
       "      <td>1635282178</td>\n",
       "      <td>1635282178</td>\n",
       "      <td>1635282178</td>\n",
       "      <td>1635282178</td>\n",
       "      <td>1635282178</td>\n",
       "    </tr>\n",
       "    <tr>\n",
       "      <th>name</th>\n",
       "      <td>BTC/INR</td>\n",
       "      <td>XRP/INR</td>\n",
       "      <td>ETH/INR</td>\n",
       "      <td>TRX/INR</td>\n",
       "      <td>EOS/INR</td>\n",
       "      <td>ZIL/INR</td>\n",
       "      <td>BAT/INR</td>\n",
       "      <td>ZRX/INR</td>\n",
       "      <td>OMG/INR</td>\n",
       "      <td>POLY/INR</td>\n",
       "      <td>...</td>\n",
       "      <td>MATIC/WRX</td>\n",
       "      <td>ADA/WRX</td>\n",
       "      <td>BAT/WRX</td>\n",
       "      <td>SHIB/WRX</td>\n",
       "      <td>1INCH/WRX</td>\n",
       "      <td>DOCK/WRX</td>\n",
       "      <td>RUNE/WRX</td>\n",
       "      <td>CHR/WRX</td>\n",
       "      <td>YFII/WRX</td>\n",
       "      <td>LUNA/WRX</td>\n",
       "    </tr>\n",
       "  </tbody>\n",
       "</table>\n",
       "<p>12 rows × 387 columns</p>\n",
       "</div>"
      ],
      "text/plain": [
       "                btcinr      xrpinr      ethinr      trxinr      eosinr  \\\n",
       "base_unit          btc         xrp         eth         trx         eos   \n",
       "quote_unit         inr         inr         inr         inr         inr   \n",
       "low          4797502.0       84.56    321882.8        7.76       370.0   \n",
       "high         4900000.0     89.6888    332530.2      8.1973      382.99   \n",
       "last         4810300.0     89.1112    330758.0        7.96       373.8   \n",
       "type              SPOT        SPOT        SPOT        SPOT        SPOT   \n",
       "open          4.86e+06     84.7014      324980      7.7878      371.24   \n",
       "volume       283.27228   1404012.0    548.8762  24662148.0    21140.22   \n",
       "sell         4818811.0        89.3    330758.0      7.9699      374.39   \n",
       "buy          4810300.0      89.011    330101.1        7.96       373.0   \n",
       "at          1635282176  1635282176  1635282176  1635282176  1635282176   \n",
       "name           BTC/INR     XRP/INR     ETH/INR     TRX/INR     EOS/INR   \n",
       "\n",
       "                zilinr      batinr      zrxinr      omginr     polyinr  ...  \\\n",
       "base_unit          zil         bat         zrx         omg        poly  ...   \n",
       "quote_unit         inr         inr         inr         inr         inr  ...   \n",
       "low               8.38      54.001       77.79      1102.1        54.4  ...   \n",
       "high              8.82      57.168       85.71    1138.991        56.0  ...   \n",
       "last              8.53      56.051       84.01    1118.998      55.201  ...   \n",
       "type              SPOT        SPOT        SPOT        SPOT        SPOT  ...   \n",
       "open              8.72      54.396       78.36     1110.76      55.197  ...   \n",
       "volume       2464979.0   162834.59    102656.0     4958.66    873305.0  ...   \n",
       "sell              8.54      56.694       84.69    1118.998      55.201  ...   \n",
       "buy                8.5      56.051       84.02    1110.002      55.065  ...   \n",
       "at          1635282176  1635282176  1635282176  1635282176  1635282176  ...   \n",
       "name           ZIL/INR     BAT/INR     ZRX/INR     OMG/INR    POLY/INR  ...   \n",
       "\n",
       "              maticwrx      adawrx      batwrx        shibwrx    1inchwrx  \\\n",
       "base_unit        matic         ada         bat           shib       1inch   \n",
       "quote_unit         wrx         wrx         wrx            wrx         wrx   \n",
       "low             1.2166      1.4943         0.5     0.00002982       2.838   \n",
       "high             1.324      1.6299       0.525     0.00003476        3.08   \n",
       "last            1.2654      1.5308       0.514     0.00003264       2.839   \n",
       "type              SPOT        SPOT        SPOT           SPOT        SPOT   \n",
       "open            1.2166      1.6031       0.523       3.14e-05       3.065   \n",
       "volume        162956.0     21896.6     3367.84  13159549744.0     1169.72   \n",
       "sell            1.2624      1.5307       0.513     0.00003264       2.839   \n",
       "buy             1.2466      1.5171       0.503     0.00003255         2.8   \n",
       "at          1635282178  1635282178  1635282178     1635282178  1635282178   \n",
       "name         MATIC/WRX     ADA/WRX     BAT/WRX       SHIB/WRX   1INCH/WRX   \n",
       "\n",
       "               dockwrx     runewrx      chrwrx     yfiiwrx     lunawrx  \n",
       "base_unit         dock        rune         chr        yfii        luna  \n",
       "quote_unit         wrx         wrx         wrx         wrx         wrx  \n",
       "low               0.05       8.462      0.2506     2948.64      30.501  \n",
       "high              0.07      10.744      0.2724      3100.0        33.1  \n",
       "last              0.06        8.47       0.252      3010.0      31.208  \n",
       "type              SPOT        SPOT        SPOT        SPOT        SPOT  \n",
       "open              0.07       9.768      0.2675     3064.99       32.09  \n",
       "volume        278570.0    1448.046     19489.0    0.368542      224.88  \n",
       "sell              0.06       9.347        0.26      3090.0      32.996  \n",
       "buy               0.05       8.463       0.252      2952.0      31.217  \n",
       "at          1635282178  1635282178  1635282178  1635282178  1635282178  \n",
       "name          DOCK/WRX    RUNE/WRX     CHR/WRX    YFII/WRX    LUNA/WRX  \n",
       "\n",
       "[12 rows x 387 columns]"
      ]
     },
     "execution_count": 56,
     "metadata": {},
     "output_type": "execute_result"
    }
   ],
   "source": [
    "import pandas as pd\n",
    "df = pd.DataFrame.from_dict(data)\n",
    "df"
   ]
  },
  {
   "cell_type": "markdown",
   "metadata": {},
   "source": [
    "#### Preparation "
   ]
  },
  {
   "cell_type": "code",
   "execution_count": 57,
   "metadata": {
    "scrolled": true
   },
   "outputs": [
    {
     "data": {
      "text/html": [
       "<div>\n",
       "<style scoped>\n",
       "    .dataframe tbody tr th:only-of-type {\n",
       "        vertical-align: middle;\n",
       "    }\n",
       "\n",
       "    .dataframe tbody tr th {\n",
       "        vertical-align: top;\n",
       "    }\n",
       "\n",
       "    .dataframe thead th {\n",
       "        text-align: right;\n",
       "    }\n",
       "</style>\n",
       "<table border=\"1\" class=\"dataframe\">\n",
       "  <thead>\n",
       "    <tr style=\"text-align: right;\">\n",
       "      <th></th>\n",
       "      <th>ethinr</th>\n",
       "      <th>ltcinr</th>\n",
       "    </tr>\n",
       "  </thead>\n",
       "  <tbody>\n",
       "    <tr>\n",
       "      <th>volume</th>\n",
       "      <td>548.8762</td>\n",
       "      <td>1157.079</td>\n",
       "    </tr>\n",
       "    <tr>\n",
       "      <th>at</th>\n",
       "      <td>1635282176</td>\n",
       "      <td>1635282177</td>\n",
       "    </tr>\n",
       "  </tbody>\n",
       "</table>\n",
       "</div>"
      ],
      "text/plain": [
       "            ethinr      ltcinr\n",
       "volume    548.8762    1157.079\n",
       "at      1635282176  1635282177"
      ]
     },
     "execution_count": 57,
     "metadata": {},
     "output_type": "execute_result"
    }
   ],
   "source": [
    "new_data_df = df.drop(['base_unit','quote_unit','low','high','last','open','sell','buy','name','type'])\n",
    "new_data_df = new_data_df[[\"ethinr\", \"ltcinr\"]]\n",
    "new_data_df"
   ]
  },
  {
   "cell_type": "code",
   "execution_count": 58,
   "metadata": {},
   "outputs": [
    {
     "data": {
      "text/html": [
       "<div>\n",
       "<style scoped>\n",
       "    .dataframe tbody tr th:only-of-type {\n",
       "        vertical-align: middle;\n",
       "    }\n",
       "\n",
       "    .dataframe tbody tr th {\n",
       "        vertical-align: top;\n",
       "    }\n",
       "\n",
       "    .dataframe thead th {\n",
       "        text-align: right;\n",
       "    }\n",
       "</style>\n",
       "<table border=\"1\" class=\"dataframe\">\n",
       "  <thead>\n",
       "    <tr style=\"text-align: right;\">\n",
       "      <th></th>\n",
       "      <th>volume</th>\n",
       "      <th>at</th>\n",
       "    </tr>\n",
       "  </thead>\n",
       "  <tbody>\n",
       "    <tr>\n",
       "      <th>ethinr</th>\n",
       "      <td>548.8762</td>\n",
       "      <td>1970-01-01 00:00:01.635282176</td>\n",
       "    </tr>\n",
       "    <tr>\n",
       "      <th>ltcinr</th>\n",
       "      <td>1157.079</td>\n",
       "      <td>1970-01-01 00:00:01.635282177</td>\n",
       "    </tr>\n",
       "  </tbody>\n",
       "</table>\n",
       "</div>"
      ],
      "text/plain": [
       "          volume                            at\n",
       "ethinr  548.8762 1970-01-01 00:00:01.635282176\n",
       "ltcinr  1157.079 1970-01-01 00:00:01.635282177"
      ]
     },
     "execution_count": 58,
     "metadata": {},
     "output_type": "execute_result"
    }
   ],
   "source": [
    "# transpose to get the variables as columns\n",
    "new_data_df = new_data_df.T\n",
    "\n",
    "new_data_df['at'] = pd.to_datetime(new_data_df['at'])\n",
    "new_data_df\n"
   ]
  },
  {
   "cell_type": "code",
   "execution_count": 59,
   "metadata": {},
   "outputs": [
    {
     "data": {
      "text/html": [
       "<div>\n",
       "<style scoped>\n",
       "    .dataframe tbody tr th:only-of-type {\n",
       "        vertical-align: middle;\n",
       "    }\n",
       "\n",
       "    .dataframe tbody tr th {\n",
       "        vertical-align: top;\n",
       "    }\n",
       "\n",
       "    .dataframe thead th {\n",
       "        text-align: right;\n",
       "    }\n",
       "</style>\n",
       "<table border=\"1\" class=\"dataframe\">\n",
       "  <thead>\n",
       "    <tr style=\"text-align: right;\">\n",
       "      <th></th>\n",
       "      <th>volume</th>\n",
       "      <th>year</th>\n",
       "      <th>month</th>\n",
       "      <th>day</th>\n",
       "      <th>hour</th>\n",
       "      <th>minute</th>\n",
       "    </tr>\n",
       "  </thead>\n",
       "  <tbody>\n",
       "    <tr>\n",
       "      <th>ethinr</th>\n",
       "      <td>548.8762</td>\n",
       "      <td>2021</td>\n",
       "      <td>10</td>\n",
       "      <td>26</td>\n",
       "      <td>0</td>\n",
       "      <td>0</td>\n",
       "    </tr>\n",
       "    <tr>\n",
       "      <th>ltcinr</th>\n",
       "      <td>1157.079</td>\n",
       "      <td>2021</td>\n",
       "      <td>10</td>\n",
       "      <td>26</td>\n",
       "      <td>0</td>\n",
       "      <td>0</td>\n",
       "    </tr>\n",
       "  </tbody>\n",
       "</table>\n",
       "</div>"
      ],
      "text/plain": [
       "          volume  year  month  day  hour  minute\n",
       "ethinr  548.8762  2021     10   26     0       0\n",
       "ltcinr  1157.079  2021     10   26     0       0"
      ]
     },
     "execution_count": 59,
     "metadata": {},
     "output_type": "execute_result"
    }
   ],
   "source": [
    "from datetime import date\n",
    "\n",
    "new_data_df['year'] = date.today().year\n",
    "new_data_df['month'] = date.today().month\n",
    "new_data_df['day'] = date.today().day\n",
    "new_data_df['hour'] = new_data_df['at'].dt.hour\n",
    "new_data_df['minute'] = new_data_df['at'].dt.minute\n",
    "\n",
    "new_data_df = new_data_df.drop(['at'], axis=1)\n",
    "\n",
    "new_data_df"
   ]
  },
  {
   "cell_type": "code",
   "execution_count": 60,
   "metadata": {},
   "outputs": [
    {
     "data": {
      "text/html": [
       "<div>\n",
       "<style scoped>\n",
       "    .dataframe tbody tr th:only-of-type {\n",
       "        vertical-align: middle;\n",
       "    }\n",
       "\n",
       "    .dataframe tbody tr th {\n",
       "        vertical-align: top;\n",
       "    }\n",
       "\n",
       "    .dataframe thead th {\n",
       "        text-align: right;\n",
       "    }\n",
       "</style>\n",
       "<table border=\"1\" class=\"dataframe\">\n",
       "  <thead>\n",
       "    <tr style=\"text-align: right;\">\n",
       "      <th></th>\n",
       "      <th>volume</th>\n",
       "      <th>year</th>\n",
       "      <th>month</th>\n",
       "      <th>day</th>\n",
       "      <th>hour</th>\n",
       "      <th>minute</th>\n",
       "    </tr>\n",
       "  </thead>\n",
       "  <tbody>\n",
       "    <tr>\n",
       "      <th>ethinr</th>\n",
       "      <td>548.8762</td>\n",
       "      <td>2021</td>\n",
       "      <td>10</td>\n",
       "      <td>26</td>\n",
       "      <td>0</td>\n",
       "      <td>0</td>\n",
       "    </tr>\n",
       "    <tr>\n",
       "      <th>ltcinr</th>\n",
       "      <td>1157.0790</td>\n",
       "      <td>2021</td>\n",
       "      <td>10</td>\n",
       "      <td>26</td>\n",
       "      <td>0</td>\n",
       "      <td>0</td>\n",
       "    </tr>\n",
       "  </tbody>\n",
       "</table>\n",
       "</div>"
      ],
      "text/plain": [
       "           volume  year  month  day  hour  minute\n",
       "ethinr   548.8762  2021     10   26     0       0\n",
       "ltcinr  1157.0790  2021     10   26     0       0"
      ]
     },
     "execution_count": 60,
     "metadata": {},
     "output_type": "execute_result"
    }
   ],
   "source": [
    "# convert string to float\n",
    "new_data_df['volume'] = new_data_df['volume'].astype(float)\n",
    "new_data_df"
   ]
  },
  {
   "cell_type": "code",
   "execution_count": null,
   "metadata": {},
   "outputs": [],
   "source": [
    "# pip install pandas openpyxl\n",
    "# new_data_df.to_excel(\"crypto.xlsx\",encoding='utf8')"
   ]
  },
  {
   "cell_type": "markdown",
   "metadata": {},
   "source": [
    "#### Exploration "
   ]
  },
  {
   "cell_type": "code",
   "execution_count": null,
   "metadata": {},
   "outputs": [],
   "source": [
    "new_data_df.head()"
   ]
  },
  {
   "cell_type": "code",
   "execution_count": null,
   "metadata": {},
   "outputs": [],
   "source": [
    "new_data_df.info()"
   ]
  },
  {
   "cell_type": "code",
   "execution_count": null,
   "metadata": {},
   "outputs": [],
   "source": [
    "new_data_df.describe()"
   ]
  },
  {
   "cell_type": "code",
   "execution_count": null,
   "metadata": {},
   "outputs": [],
   "source": [
    "new_data_df.isnull().sum()"
   ]
  },
  {
   "cell_type": "markdown",
   "metadata": {},
   "source": [
    "The above indicates that there are no missing values "
   ]
  },
  {
   "cell_type": "code",
   "execution_count": null,
   "metadata": {},
   "outputs": [],
   "source": [
    "# from scipy import stats\n",
    "# import traceback\n",
    "# def get_linear_reg(dependent_var):\n",
    "#     linear_regression = stats.linregress(x=new_data_df[dependent_var],\n",
    "#                                  y=new_data_df[\"at\"])\n",
    "#     m = linear_regression.slope\n",
    "#     b = linear_regression.intercept\n",
    "#     reg_line = m*new_data_df[dependent_var] + b\n",
    "#     print(f'slope = {m:.4f}, intercept = {b:.4f}')\n",
    "#     return reg_line"
   ]
  },
  {
   "cell_type": "code",
   "execution_count": null,
   "metadata": {},
   "outputs": [],
   "source": [
    "# sell_price = get_linear_reg(\"sell\")"
   ]
  },
  {
   "cell_type": "code",
   "execution_count": null,
   "metadata": {},
   "outputs": [],
   "source": [
    "high_data_df"
   ]
  },
  {
   "cell_type": "markdown",
   "metadata": {},
   "source": [
    "### predict the high price of each coin"
   ]
  },
  {
   "cell_type": "code",
   "execution_count": null,
   "metadata": {},
   "outputs": [],
   "source": [
    "from sklearn.model_selection import train_test_split\n",
    "\n",
    "X_train, X_test, y_train, y_test = \\\n",
    "    train_test_split(high_data_df, new_data_df.high, random_state=11, test_size=0.3)\n",
    "\n",
    "print(f'Shape of training set = {X_train.shape}')\n",
    "print(f'Shape of testing  set = {X_test.shape}')"
   ]
  },
  {
   "cell_type": "code",
   "execution_count": null,
   "metadata": {},
   "outputs": [],
   "source": [
    "# print(y_test)"
   ]
  },
  {
   "cell_type": "code",
   "execution_count": null,
   "metadata": {},
   "outputs": [],
   "source": [
    "# print(y_train)"
   ]
  },
  {
   "cell_type": "code",
   "execution_count": null,
   "metadata": {},
   "outputs": [],
   "source": [
    "# print(X_test)"
   ]
  },
  {
   "cell_type": "code",
   "execution_count": null,
   "metadata": {},
   "outputs": [],
   "source": [
    "# print(X_train)"
   ]
  },
  {
   "cell_type": "code",
   "execution_count": null,
   "metadata": {},
   "outputs": [],
   "source": [
    "from sklearn.linear_model import LinearRegression\n",
    "\n",
    "linear_regression = LinearRegression()\n",
    "linear_regression.fit(X=X_train, y=y_train)\n",
    "\n",
    "for i, name in enumerate(high_data_df):\n",
    "    print(f'{name:>38}: {linear_regression.coef_[i]:24.20f}')\n",
    "\n",
    "print()\n",
    "print(f'y-intercept: {linear_regression.intercept_:23.20f}')"
   ]
  },
  {
   "cell_type": "code",
   "execution_count": null,
   "metadata": {},
   "outputs": [],
   "source": [
    "import math\n",
    "from sklearn import metrics\n",
    "from sklearn.metrics import accuracy_score\n",
    "import numpy as np\n",
    "\n",
    "predicted = linear_regression.predict(X_test)\n",
    "expected  = y_test\n",
    "\n",
    "# print(f'Predicted : {predicted}')\n",
    "# print(f'Expected : {expected}')"
   ]
  },
  {
   "cell_type": "code",
   "execution_count": null,
   "metadata": {},
   "outputs": [],
   "source": [
    "r2 = metrics.r2_score(expected, predicted)\n",
    "r  = math.sqrt(r2)\n",
    "\n",
    "\n",
    "print(f'coefficient of determination = {r2:.1f}')\n",
    "print(f'     correlation coefficient = {r:.1f}')\n"
   ]
  },
  {
   "cell_type": "code",
   "execution_count": null,
   "metadata": {},
   "outputs": [],
   "source": [
    "# expected vs predicted\n",
    "\n",
    "import matplotlib.pyplot as plt\n",
    "import seaborn as sns\n",
    "\n",
    "test_df = pd.DataFrame()\n",
    "\n",
    "test_df['Expected']  = pd.Series(expected)\n",
    "test_df['Predicted'] = pd.Series(predicted)\n",
    "\n",
    "sns.set_style('whitegrid')\n",
    "figure = plt.figure(figsize=(15, 10))\n",
    "\n",
    "axes = sns.scatterplot(data=test_df, x='Expected', y='Predicted', \n",
    "                       hue='Predicted', palette='cool', \n",
    "                       legend=False)\n",
    "\n",
    "start = min(expected.min(), predicted.min())\n",
    "end   = max(expected.max(), predicted.max())\n",
    "\n",
    "axes.set_xlim(start, end)\n",
    "axes.set_ylim(start, end)\n",
    "\n",
    "line = plt.plot([start, end], [start, end])"
   ]
  },
  {
   "cell_type": "code",
   "execution_count": null,
   "metadata": {},
   "outputs": [],
   "source": [
    "predict_test = np.array([[4.52,7.112,9.678,16812.507,6.144,10.149,1628097036],\\\n",
    "                         [8.52,65.162,17.978,26718.902,3.144,39.98,1628097038]])\n",
    "predicted_high_value = linear_regression.predict(predict_test)\n",
    "# expected  = y_test\n",
    "\n",
    "print(f'predicted_high_value : {predicted_high_value}')"
   ]
  },
  {
   "cell_type": "code",
   "execution_count": null,
   "metadata": {},
   "outputs": [],
   "source": []
  }
 ],
 "metadata": {
  "kernelspec": {
   "display_name": "Python 3",
   "language": "python",
   "name": "python3"
  },
  "language_info": {
   "codemirror_mode": {
    "name": "ipython",
    "version": 3
   },
   "file_extension": ".py",
   "mimetype": "text/x-python",
   "name": "python",
   "nbconvert_exporter": "python",
   "pygments_lexer": "ipython3",
   "version": "3.8.5"
  }
 },
 "nbformat": 4,
 "nbformat_minor": 4
}
